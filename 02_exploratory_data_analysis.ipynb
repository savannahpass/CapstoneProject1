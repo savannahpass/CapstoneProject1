{
 "cells": [
  {
   "cell_type": "markdown",
   "id": "e246d904",
   "metadata": {},
   "source": [
    "#### Completion\n",
    "- Every feature is investigated using either histograms, bi-plots, or other visual and numeric means.\n",
    "- Pearson correlation coefficients and other statistical methods were used to identify statistical relationship strengths.\n",
    "#### Process and Understanding\n",
    "- The submission shows that the student understands how to explore feature relationships in the data.\n",
    "- The submission demonstrates that the student made data-supported decisions on when to select specific features.\n",
    "\n",
    "##### Ideas:\n",
    "- Build data profiles and tables\n",
    "- Inferential statistics\n",
    "- Explore data relationships\n",
    "- Data visualization\n",
    "- Feature Selection and Engineering"
   ]
  },
  {
   "cell_type": "markdown",
   "id": "1890cc2a",
   "metadata": {},
   "source": [
    "#### Explore Interactions Dataset\n",
    "\n",
    "- sns.relplot()\n",
    "- sns.lmplot()\n",
    "- sns.catplot()\n",
    "\n",
    " [penguin[\"species\"] for penguin in penguins if penguin[\"sex\"] == 'FEMALE']\n"
   ]
  },
  {
   "cell_type": "code",
   "execution_count": 3,
   "id": "a9853227",
   "metadata": {},
   "outputs": [],
   "source": [
    "import numpy as np \n",
    "import pandas as pd \n",
    "import matplotlib.pyplot as plt \n",
    "import seaborn as sns\n",
    "\n",
    "# Show plots inline\n",
    "%matplotlib inline"
   ]
  },
  {
   "cell_type": "code",
   "execution_count": 4,
   "id": "27f41b68",
   "metadata": {},
   "outputs": [],
   "source": [
    "# data paths\n",
    "interactions_str = 'interactions_clean.csv'\n",
    "recipes_str = 'recipes_clean.csv'\n",
    "\n",
    "# load data\n",
    "interactions = pd.read_csv(interactions_str, index_col=[0])\n",
    "recipes = pd.read_csv(recipes_str,  index_col=[0])"
   ]
  },
  {
   "cell_type": "code",
   "execution_count": 6,
   "id": "569ff71e",
   "metadata": {},
   "outputs": [
    {
     "data": {
      "text/html": [
       "<div>\n",
       "<style scoped>\n",
       "    .dataframe tbody tr th:only-of-type {\n",
       "        vertical-align: middle;\n",
       "    }\n",
       "\n",
       "    .dataframe tbody tr th {\n",
       "        vertical-align: top;\n",
       "    }\n",
       "\n",
       "    .dataframe thead th {\n",
       "        text-align: right;\n",
       "    }\n",
       "</style>\n",
       "<table border=\"1\" class=\"dataframe\">\n",
       "  <thead>\n",
       "    <tr style=\"text-align: right;\">\n",
       "      <th></th>\n",
       "      <th>recipe</th>\n",
       "      <th>recipe_id</th>\n",
       "      <th>minutes</th>\n",
       "      <th>user_id</th>\n",
       "      <th>submitted</th>\n",
       "      <th>tags</th>\n",
       "      <th>nutrition</th>\n",
       "      <th>n_steps</th>\n",
       "      <th>steps</th>\n",
       "      <th>description</th>\n",
       "      <th>ingredients</th>\n",
       "      <th>n_ingredients</th>\n",
       "    </tr>\n",
       "  </thead>\n",
       "  <tbody>\n",
       "    <tr>\n",
       "      <th>0</th>\n",
       "      <td>arriba   baked winter squash mexican style</td>\n",
       "      <td>137739</td>\n",
       "      <td>55</td>\n",
       "      <td>47892</td>\n",
       "      <td>2005-09-16</td>\n",
       "      <td>['60-minutes-or-less', 'time-to-make', 'course...</td>\n",
       "      <td>[51.5, 0.0, 13.0, 0.0, 2.0, 0.0, 4.0]</td>\n",
       "      <td>11</td>\n",
       "      <td>['make a choice and proceed with recipe', 'dep...</td>\n",
       "      <td>autumn is my favorite time of year to cook! th...</td>\n",
       "      <td>['winter squash', 'mexican seasoning', 'mixed ...</td>\n",
       "      <td>7</td>\n",
       "    </tr>\n",
       "    <tr>\n",
       "      <th>1</th>\n",
       "      <td>a bit different  breakfast pizza</td>\n",
       "      <td>31490</td>\n",
       "      <td>30</td>\n",
       "      <td>26278</td>\n",
       "      <td>2002-06-17</td>\n",
       "      <td>['30-minutes-or-less', 'time-to-make', 'course...</td>\n",
       "      <td>[173.4, 18.0, 0.0, 17.0, 22.0, 35.0, 1.0]</td>\n",
       "      <td>9</td>\n",
       "      <td>['preheat oven to 425 degrees f', 'press dough...</td>\n",
       "      <td>this recipe calls for the crust to be prebaked...</td>\n",
       "      <td>['prepared pizza crust', 'sausage patty', 'egg...</td>\n",
       "      <td>6</td>\n",
       "    </tr>\n",
       "    <tr>\n",
       "      <th>2</th>\n",
       "      <td>all in the kitchen  chili</td>\n",
       "      <td>112140</td>\n",
       "      <td>130</td>\n",
       "      <td>196586</td>\n",
       "      <td>2005-02-25</td>\n",
       "      <td>['time-to-make', 'course', 'preparation', 'mai...</td>\n",
       "      <td>[269.8, 22.0, 32.0, 48.0, 39.0, 27.0, 5.0]</td>\n",
       "      <td>6</td>\n",
       "      <td>['brown ground beef in large pot', 'add choppe...</td>\n",
       "      <td>this modified version of 'mom's' chili was a h...</td>\n",
       "      <td>['ground beef', 'yellow onions', 'diced tomato...</td>\n",
       "      <td>13</td>\n",
       "    </tr>\n",
       "    <tr>\n",
       "      <th>3</th>\n",
       "      <td>alouette  potatoes</td>\n",
       "      <td>59389</td>\n",
       "      <td>45</td>\n",
       "      <td>68585</td>\n",
       "      <td>2003-04-14</td>\n",
       "      <td>['60-minutes-or-less', 'time-to-make', 'course...</td>\n",
       "      <td>[368.1, 17.0, 10.0, 2.0, 14.0, 8.0, 20.0]</td>\n",
       "      <td>11</td>\n",
       "      <td>['place potatoes in a large pot of lightly sal...</td>\n",
       "      <td>this is a super easy, great tasting, make ahea...</td>\n",
       "      <td>['spreadable cheese with garlic and herbs', 'n...</td>\n",
       "      <td>11</td>\n",
       "    </tr>\n",
       "    <tr>\n",
       "      <th>4</th>\n",
       "      <td>amish  tomato ketchup  for canning</td>\n",
       "      <td>44061</td>\n",
       "      <td>190</td>\n",
       "      <td>41706</td>\n",
       "      <td>2002-10-25</td>\n",
       "      <td>['weeknight', 'time-to-make', 'course', 'main-...</td>\n",
       "      <td>[352.9, 1.0, 337.0, 23.0, 3.0, 0.0, 28.0]</td>\n",
       "      <td>5</td>\n",
       "      <td>['mix all ingredients&amp; boil for 2 1 / 2 hours ...</td>\n",
       "      <td>my dh's amish mother raised him on this recipe...</td>\n",
       "      <td>['tomato juice', 'apple cider vinegar', 'sugar...</td>\n",
       "      <td>8</td>\n",
       "    </tr>\n",
       "  </tbody>\n",
       "</table>\n",
       "</div>"
      ],
      "text/plain": [
       "                                       recipe  recipe_id  minutes  user_id  \\\n",
       "0  arriba   baked winter squash mexican style     137739       55    47892   \n",
       "1            a bit different  breakfast pizza      31490       30    26278   \n",
       "2                   all in the kitchen  chili     112140      130   196586   \n",
       "3                          alouette  potatoes      59389       45    68585   \n",
       "4          amish  tomato ketchup  for canning      44061      190    41706   \n",
       "\n",
       "    submitted                                               tags  \\\n",
       "0  2005-09-16  ['60-minutes-or-less', 'time-to-make', 'course...   \n",
       "1  2002-06-17  ['30-minutes-or-less', 'time-to-make', 'course...   \n",
       "2  2005-02-25  ['time-to-make', 'course', 'preparation', 'mai...   \n",
       "3  2003-04-14  ['60-minutes-or-less', 'time-to-make', 'course...   \n",
       "4  2002-10-25  ['weeknight', 'time-to-make', 'course', 'main-...   \n",
       "\n",
       "                                    nutrition  n_steps  \\\n",
       "0       [51.5, 0.0, 13.0, 0.0, 2.0, 0.0, 4.0]       11   \n",
       "1   [173.4, 18.0, 0.0, 17.0, 22.0, 35.0, 1.0]        9   \n",
       "2  [269.8, 22.0, 32.0, 48.0, 39.0, 27.0, 5.0]        6   \n",
       "3   [368.1, 17.0, 10.0, 2.0, 14.0, 8.0, 20.0]       11   \n",
       "4   [352.9, 1.0, 337.0, 23.0, 3.0, 0.0, 28.0]        5   \n",
       "\n",
       "                                               steps  \\\n",
       "0  ['make a choice and proceed with recipe', 'dep...   \n",
       "1  ['preheat oven to 425 degrees f', 'press dough...   \n",
       "2  ['brown ground beef in large pot', 'add choppe...   \n",
       "3  ['place potatoes in a large pot of lightly sal...   \n",
       "4  ['mix all ingredients& boil for 2 1 / 2 hours ...   \n",
       "\n",
       "                                         description  \\\n",
       "0  autumn is my favorite time of year to cook! th...   \n",
       "1  this recipe calls for the crust to be prebaked...   \n",
       "2  this modified version of 'mom's' chili was a h...   \n",
       "3  this is a super easy, great tasting, make ahea...   \n",
       "4  my dh's amish mother raised him on this recipe...   \n",
       "\n",
       "                                         ingredients  n_ingredients  \n",
       "0  ['winter squash', 'mexican seasoning', 'mixed ...              7  \n",
       "1  ['prepared pizza crust', 'sausage patty', 'egg...              6  \n",
       "2  ['ground beef', 'yellow onions', 'diced tomato...             13  \n",
       "3  ['spreadable cheese with garlic and herbs', 'n...             11  \n",
       "4  ['tomato juice', 'apple cider vinegar', 'sugar...              8  "
      ]
     },
     "execution_count": 6,
     "metadata": {},
     "output_type": "execute_result"
    }
   ],
   "source": [
    "recipes.head()"
   ]
  },
  {
   "cell_type": "code",
   "execution_count": 7,
   "id": "80953800",
   "metadata": {},
   "outputs": [
    {
     "data": {
      "text/html": [
       "<div>\n",
       "<style scoped>\n",
       "    .dataframe tbody tr th:only-of-type {\n",
       "        vertical-align: middle;\n",
       "    }\n",
       "\n",
       "    .dataframe tbody tr th {\n",
       "        vertical-align: top;\n",
       "    }\n",
       "\n",
       "    .dataframe thead th {\n",
       "        text-align: right;\n",
       "    }\n",
       "</style>\n",
       "<table border=\"1\" class=\"dataframe\">\n",
       "  <thead>\n",
       "    <tr style=\"text-align: right;\">\n",
       "      <th></th>\n",
       "      <th>user_id</th>\n",
       "      <th>recipe_id</th>\n",
       "      <th>date</th>\n",
       "      <th>rating</th>\n",
       "      <th>review</th>\n",
       "    </tr>\n",
       "  </thead>\n",
       "  <tbody>\n",
       "    <tr>\n",
       "      <th>0</th>\n",
       "      <td>38094</td>\n",
       "      <td>40893</td>\n",
       "      <td>2003-02-17</td>\n",
       "      <td>4</td>\n",
       "      <td>Great with a salad. Cooked on top of stove for...</td>\n",
       "    </tr>\n",
       "    <tr>\n",
       "      <th>1</th>\n",
       "      <td>1293707</td>\n",
       "      <td>40893</td>\n",
       "      <td>2011-12-21</td>\n",
       "      <td>5</td>\n",
       "      <td>So simple, so delicious! Great for chilly fall...</td>\n",
       "    </tr>\n",
       "    <tr>\n",
       "      <th>2</th>\n",
       "      <td>8937</td>\n",
       "      <td>44394</td>\n",
       "      <td>2002-12-01</td>\n",
       "      <td>4</td>\n",
       "      <td>This worked very well and is EASY.  I used not...</td>\n",
       "    </tr>\n",
       "    <tr>\n",
       "      <th>3</th>\n",
       "      <td>126440</td>\n",
       "      <td>85009</td>\n",
       "      <td>2010-02-27</td>\n",
       "      <td>5</td>\n",
       "      <td>I made the Mexican topping and took it to bunk...</td>\n",
       "    </tr>\n",
       "    <tr>\n",
       "      <th>4</th>\n",
       "      <td>57222</td>\n",
       "      <td>85009</td>\n",
       "      <td>2011-10-01</td>\n",
       "      <td>5</td>\n",
       "      <td>Made the cheddar bacon topping, adding a sprin...</td>\n",
       "    </tr>\n",
       "  </tbody>\n",
       "</table>\n",
       "</div>"
      ],
      "text/plain": [
       "   user_id  recipe_id        date  rating  \\\n",
       "0    38094      40893  2003-02-17       4   \n",
       "1  1293707      40893  2011-12-21       5   \n",
       "2     8937      44394  2002-12-01       4   \n",
       "3   126440      85009  2010-02-27       5   \n",
       "4    57222      85009  2011-10-01       5   \n",
       "\n",
       "                                              review  \n",
       "0  Great with a salad. Cooked on top of stove for...  \n",
       "1  So simple, so delicious! Great for chilly fall...  \n",
       "2  This worked very well and is EASY.  I used not...  \n",
       "3  I made the Mexican topping and took it to bunk...  \n",
       "4  Made the cheddar bacon topping, adding a sprin...  "
      ]
     },
     "execution_count": 7,
     "metadata": {},
     "output_type": "execute_result"
    }
   ],
   "source": [
    "interactions.head()"
   ]
  },
  {
   "cell_type": "code",
   "execution_count": 8,
   "id": "988800e8",
   "metadata": {},
   "outputs": [
    {
     "data": {
      "image/png": "[encoded data removed]",
      "text/plain": [
       "<Figure size 640x480 with 1 Axes>"
      ]
     },
     "metadata": {},
     "output_type": "display_data"
    }
   ],
   "source": [
    "interactions['rating'].hist();"
   ]
  },
  {
   "cell_type": "code",
   "execution_count": 9,
   "id": "cc687411",
   "metadata": {},
   "outputs": [],
   "source": [
    "# get mean rating for each recipe\n",
    "average_rating = interactions.groupby('recipe_id')['rating'].mean()"
   ]
  },
  {
   "cell_type": "code",
   "execution_count": 10,
   "id": "054d0439",
   "metadata": {},
   "outputs": [
    {
     "data": {
      "text/plain": [
       "count    231630.000000\n",
       "mean          4.346206\n",
       "std           0.990864\n",
       "min           0.000000\n",
       "25%           4.000000\n",
       "50%           4.714286\n",
       "75%           5.000000\n",
       "max           5.000000\n",
       "Name: rating, dtype: float64"
      ]
     },
     "execution_count": 10,
     "metadata": {},
     "output_type": "execute_result"
    }
   ],
   "source": [
    "average_rating.describe()"
   ]
  },
  {
   "cell_type": "code",
   "execution_count": 11,
   "id": "43229568",
   "metadata": {},
   "outputs": [
    {
     "data": {
      "text/plain": [
       "(1132198, 5)"
      ]
     },
     "execution_count": 11,
     "metadata": {},
     "output_type": "execute_result"
    }
   ],
   "source": [
    "interactions.shape"
   ]
  },
  {
   "cell_type": "code",
   "execution_count": 42,
   "id": "b5d18bd3",
   "metadata": {},
   "outputs": [
    {
     "data": {
      "text/plain": [
       "recipe_id\n",
       "2886     1609\n",
       "27208    1601\n",
       "89204    1579\n",
       "39087    1448\n",
       "67256    1322\n",
       "54257    1305\n",
       "22782    1234\n",
       "32204    1220\n",
       "Name: count, dtype: int64"
      ]
     },
     "execution_count": 42,
     "metadata": {},
     "output_type": "execute_result"
    }
   ],
   "source": [
    "# count the amount of ratings for each recipe\n",
    "num_rated = interactions.recipe_id.value_counts()\n",
    "num_rated[num_rated > 1000]"
   ]
  },
  {
   "cell_type": "code",
   "execution_count": 47,
   "id": "21fa41c8",
   "metadata": {},
   "outputs": [
    {
     "data": {
      "image/png": "[encoded data removed]",
      "text/plain": [
       "<Figure size 640x480 with 1 Axes>"
      ]
     },
     "metadata": {},
     "output_type": "display_data"
    }
   ],
   "source": [
    "plt.hist(num_rated[num_rated > 300], bins=30);"
   ]
  },
  {
   "cell_type": "markdown",
   "id": "ebd14cad",
   "metadata": {},
   "source": [
    "Looks like the majority of recipes only have 1 rating."
   ]
  },
  {
   "cell_type": "code",
   "execution_count": 45,
   "id": "0a966a94",
   "metadata": {},
   "outputs": [
    {
     "data": {
      "image/png": "[encoded data removed]",
      "text/plain": [
       "<Figure size 640x480 with 1 Axes>"
      ]
     },
     "metadata": {},
     "output_type": "display_data"
    }
   ],
   "source": [
    "user_ratings = interactions.user_id.value_counts()\n",
    "plt.hist(user_ratings[user_ratings > 1000], bins=30);"
   ]
  },
  {
   "cell_type": "code",
   "execution_count": 15,
   "id": "362a99c4",
   "metadata": {},
   "outputs": [
    {
     "data": {
      "text/plain": [
       "(231635, 12)"
      ]
     },
     "execution_count": 15,
     "metadata": {},
     "output_type": "execute_result"
    }
   ],
   "source": [
    "recipes.shape"
   ]
  },
  {
   "cell_type": "code",
   "execution_count": 16,
   "id": "4fe572a4",
   "metadata": {},
   "outputs": [
    {
     "data": {
      "text/plain": [
       "recipe           object\n",
       "recipe_id         int64\n",
       "minutes           int64\n",
       "user_id           int64\n",
       "submitted        object\n",
       "tags             object\n",
       "nutrition        object\n",
       "n_steps           int64\n",
       "steps            object\n",
       "description      object\n",
       "ingredients      object\n",
       "n_ingredients     int64\n",
       "dtype: object"
      ]
     },
     "execution_count": 16,
     "metadata": {},
     "output_type": "execute_result"
    }
   ],
   "source": [
    "recipes.dtypes"
   ]
  },
  {
   "cell_type": "code",
   "execution_count": 17,
   "id": "cf9e6ca6",
   "metadata": {},
   "outputs": [],
   "source": [
    "#recipes_numerical = recipes[['minutes','n_steps','n_ingredients']]\n",
    "#sns.heatmap(recipes_numerical.corr())"
   ]
  },
  {
   "cell_type": "code",
   "execution_count": 18,
   "id": "f372bac1",
   "metadata": {},
   "outputs": [
    {
     "data": {
      "text/plain": [
       "Text(0.5, 1.0, 'Mean User Recipe Rating')"
      ]
     },
     "execution_count": 18,
     "metadata": {},
     "output_type": "execute_result"
    },
    {
     "data": {
      "image/png": "[encoded data removed]",
      "text/plain": [
       "<Figure size 640x480 with 1 Axes>"
      ]
     },
     "metadata": {},
     "output_type": "display_data"
    }
   ],
   "source": [
    "plt.hist(interactions.groupby('user_id')['rating'].mean(), bins=20);\n",
    "plt.title('Mean User Recipe Rating')"
   ]
  },
  {
   "cell_type": "code",
   "execution_count": 19,
   "id": "d738aee8",
   "metadata": {},
   "outputs": [],
   "source": [
    "# separate into 2 groups, numeric feature (rating), t-test of the averages\n",
    "# look into the time between people returning back to the website to rate stuff.\n",
    "\n",
    "low_interactions = interactions['user_id'].value_counts()[interactions['user_id'].value_counts()==1].index\n",
    "high_interactions = interactions['user_id'].value_counts()[interactions['user_id'].value_counts()>1000].index"
   ]
  },
  {
   "cell_type": "code",
   "execution_count": 23,
   "id": "d1cb71a3",
   "metadata": {},
   "outputs": [],
   "source": [
    "single_raters = interactions[interactions['user_id'].isin(low_interactions)]"
   ]
  },
  {
   "cell_type": "code",
   "execution_count": 25,
   "id": "0f33cbb3",
   "metadata": {},
   "outputs": [
    {
     "data": {
      "text/html": [
       "<div>\n",
       "<style scoped>\n",
       "    .dataframe tbody tr th:only-of-type {\n",
       "        vertical-align: middle;\n",
       "    }\n",
       "\n",
       "    .dataframe tbody tr th {\n",
       "        vertical-align: top;\n",
       "    }\n",
       "\n",
       "    .dataframe thead th {\n",
       "        text-align: right;\n",
       "    }\n",
       "</style>\n",
       "<table border=\"1\" class=\"dataframe\">\n",
       "  <thead>\n",
       "    <tr style=\"text-align: right;\">\n",
       "      <th></th>\n",
       "      <th>user_id</th>\n",
       "      <th>recipe_id</th>\n",
       "      <th>date</th>\n",
       "      <th>rating</th>\n",
       "      <th>review</th>\n",
       "    </tr>\n",
       "  </thead>\n",
       "  <tbody>\n",
       "    <tr>\n",
       "      <th>7</th>\n",
       "      <td>2000192946</td>\n",
       "      <td>120345</td>\n",
       "      <td>2015-05-10</td>\n",
       "      <td>2</td>\n",
       "      <td>This recipe was OVERLY too sweet.  I would sta...</td>\n",
       "    </tr>\n",
       "    <tr>\n",
       "      <th>9</th>\n",
       "      <td>273745</td>\n",
       "      <td>134728</td>\n",
       "      <td>2005-12-22</td>\n",
       "      <td>5</td>\n",
       "      <td>Better than the real!!</td>\n",
       "    </tr>\n",
       "    <tr>\n",
       "      <th>17</th>\n",
       "      <td>618928</td>\n",
       "      <td>200236</td>\n",
       "      <td>2007-10-17</td>\n",
       "      <td>4</td>\n",
       "      <td>this is an excellent got 'lamb and a tin of ch...</td>\n",
       "    </tr>\n",
       "    <tr>\n",
       "      <th>19</th>\n",
       "      <td>2000049093</td>\n",
       "      <td>200236</td>\n",
       "      <td>2015-03-08</td>\n",
       "      <td>5</td>\n",
       "      <td>I love lamb stew and usually make an Irish ver...</td>\n",
       "    </tr>\n",
       "    <tr>\n",
       "      <th>29</th>\n",
       "      <td>1413963</td>\n",
       "      <td>254596</td>\n",
       "      <td>2009-10-15</td>\n",
       "      <td>5</td>\n",
       "      <td>One word says it all . Delicious!!!</td>\n",
       "    </tr>\n",
       "  </tbody>\n",
       "</table>\n",
       "</div>"
      ],
      "text/plain": [
       "       user_id  recipe_id        date  rating  \\\n",
       "7   2000192946     120345  2015-05-10       2   \n",
       "9       273745     134728  2005-12-22       5   \n",
       "17      618928     200236  2007-10-17       4   \n",
       "19  2000049093     200236  2015-03-08       5   \n",
       "29     1413963     254596  2009-10-15       5   \n",
       "\n",
       "                                               review  \n",
       "7   This recipe was OVERLY too sweet.  I would sta...  \n",
       "9                              Better than the real!!  \n",
       "17  this is an excellent got 'lamb and a tin of ch...  \n",
       "19  I love lamb stew and usually make an Irish ver...  \n",
       "29                One word says it all . Delicious!!!  "
      ]
     },
     "execution_count": 25,
     "metadata": {},
     "output_type": "execute_result"
    }
   ],
   "source": [
    "single_raters.head()"
   ]
  },
  {
   "cell_type": "code",
   "execution_count": 26,
   "id": "baeebf53",
   "metadata": {},
   "outputs": [],
   "source": [
    "multi_raters =  interactions[interactions['user_id'].isin(high_interactions)]"
   ]
  },
  {
   "cell_type": "code",
   "execution_count": 28,
   "id": "e4802392",
   "metadata": {},
   "outputs": [
    {
     "data": {
      "text/html": [
       "<div>\n",
       "<style scoped>\n",
       "    .dataframe tbody tr th:only-of-type {\n",
       "        vertical-align: middle;\n",
       "    }\n",
       "\n",
       "    .dataframe tbody tr th {\n",
       "        vertical-align: top;\n",
       "    }\n",
       "\n",
       "    .dataframe thead th {\n",
       "        text-align: right;\n",
       "    }\n",
       "</style>\n",
       "<table border=\"1\" class=\"dataframe\">\n",
       "  <thead>\n",
       "    <tr style=\"text-align: right;\">\n",
       "      <th></th>\n",
       "      <th>user_id</th>\n",
       "      <th>recipe_id</th>\n",
       "      <th>date</th>\n",
       "      <th>rating</th>\n",
       "      <th>review</th>\n",
       "    </tr>\n",
       "  </thead>\n",
       "  <tbody>\n",
       "    <tr>\n",
       "      <th>3</th>\n",
       "      <td>126440</td>\n",
       "      <td>85009</td>\n",
       "      <td>2010-02-27</td>\n",
       "      <td>5</td>\n",
       "      <td>I made the Mexican topping and took it to bunk...</td>\n",
       "    </tr>\n",
       "    <tr>\n",
       "      <th>32</th>\n",
       "      <td>5060</td>\n",
       "      <td>310237</td>\n",
       "      <td>2010-05-07</td>\n",
       "      <td>5</td>\n",
       "      <td>wow red and white sweetness!  DH loved them , ...</td>\n",
       "    </tr>\n",
       "    <tr>\n",
       "      <th>44</th>\n",
       "      <td>101823</td>\n",
       "      <td>79222</td>\n",
       "      <td>2006-03-21</td>\n",
       "      <td>5</td>\n",
       "      <td>Excellent chowder.  This was the perfect warm-...</td>\n",
       "    </tr>\n",
       "    <tr>\n",
       "      <th>97</th>\n",
       "      <td>280271</td>\n",
       "      <td>219118</td>\n",
       "      <td>2008-11-09</td>\n",
       "      <td>4</td>\n",
       "      <td>This is so yummy. Quick to prepare and can sim...</td>\n",
       "    </tr>\n",
       "    <tr>\n",
       "      <th>98</th>\n",
       "      <td>305531</td>\n",
       "      <td>219118</td>\n",
       "      <td>2008-12-17</td>\n",
       "      <td>4</td>\n",
       "      <td>Really good carrots! There were a great side d...</td>\n",
       "    </tr>\n",
       "  </tbody>\n",
       "</table>\n",
       "</div>"
      ],
      "text/plain": [
       "    user_id  recipe_id        date  rating  \\\n",
       "3    126440      85009  2010-02-27       5   \n",
       "32     5060     310237  2010-05-07       5   \n",
       "44   101823      79222  2006-03-21       5   \n",
       "97   280271     219118  2008-11-09       4   \n",
       "98   305531     219118  2008-12-17       4   \n",
       "\n",
       "                                               review  \n",
       "3   I made the Mexican topping and took it to bunk...  \n",
       "32  wow red and white sweetness!  DH loved them , ...  \n",
       "44  Excellent chowder.  This was the perfect warm-...  \n",
       "97  This is so yummy. Quick to prepare and can sim...  \n",
       "98  Really good carrots! There were a great side d...  "
      ]
     },
     "execution_count": 28,
     "metadata": {},
     "output_type": "execute_result"
    }
   ],
   "source": [
    "multi_raters.head()"
   ]
  },
  {
   "cell_type": "code",
   "execution_count": 29,
   "id": "022bed4d",
   "metadata": {},
   "outputs": [
    {
     "data": {
      "text/plain": [
       "user_id\n",
       "424680    7671\n",
       "37449     5603\n",
       "383346    4628\n",
       "169430    4076\n",
       "128473    3917\n",
       "          ... \n",
       "37779     1016\n",
       "226066    1016\n",
       "315565    1015\n",
       "242729    1014\n",
       "47559     1014\n",
       "Name: count, Length: 96, dtype: int64"
      ]
     },
     "execution_count": 29,
     "metadata": {},
     "output_type": "execute_result"
    }
   ],
   "source": [
    "# check to make sure it worked\n",
    "\n",
    "multi_raters['user_id'].value_counts()"
   ]
  },
  {
   "cell_type": "markdown",
   "id": "59e280ec",
   "metadata": {},
   "source": [
    "### Hypothesis: \n",
    "Since it looks like there are a lot of high ratings and also a lot of ratings with only 1 rating. I want to see if people who rate often, tend to rate highly or vise versa. Or if people who have only rated once tend to rate highly or vise versa. The null hypothesis is that both low frequency and high frequency raters, tend to rate the same."
   ]
  },
  {
   "cell_type": "code",
   "execution_count": 30,
   "id": "6f86bbdd",
   "metadata": {},
   "outputs": [],
   "source": [
    "single_rating_mean = single_raters['rating'].mean()\n",
    "multi_rating_mean =  multi_raters['rating'].mean()"
   ]
  },
  {
   "cell_type": "code",
   "execution_count": 31,
   "id": "cf916ce3",
   "metadata": {},
   "outputs": [],
   "source": [
    "def diff_of_means(data_1, data_2):\n",
    "    \"\"\"Difference in means of two arrays.\"\"\"\n",
    "    \n",
    "    # The difference of means of data_1, data_2: diff\n",
    "    diff = np.mean(data_1) - np.mean(data_2)\n",
    "    return diff"
   ]
  },
  {
   "cell_type": "code",
   "execution_count": 34,
   "id": "8ea2163f",
   "metadata": {},
   "outputs": [],
   "source": [
    "def draw_bs_reps(data, func, size=1):\n",
    "    \"\"\"Draw bootstrap replicates.\"\"\"\n",
    "\n",
    "    # Initialize array of replicates: bs_replicates\n",
    "    bs_replicates = np.empty(size)\n",
    "\n",
    "    # Generate replicates\n",
    "    for i in range(size):\n",
    "        bs_replicates[i] = bootstrap_replicate_1d(data,func)\n",
    "\n",
    "    return bs_replicates"
   ]
  },
  {
   "cell_type": "code",
   "execution_count": 35,
   "id": "1adba8e3",
   "metadata": {},
   "outputs": [],
   "source": [
    "def bootstrap_replicate_1d(data, func):\n",
    "    \"\"\"Generate bootstrap replicate of 1D data.\"\"\"\n",
    "    bs_sample = np.random.choice(data, len(data))\n",
    "    return func(bs_sample)"
   ]
  },
  {
   "cell_type": "code",
   "execution_count": 33,
   "id": "460e83cc",
   "metadata": {},
   "outputs": [],
   "source": [
    "# Compute difference of mean impact force from experiment: empirical_diff_means\n",
    "diff_means = diff_of_means(single_raters['rating'],multi_raters['rating'])\n",
    "\n",
    "\n",
    "# Compute mean of pooled data: mean_count\n",
    "group_mean = np.mean(np.concatenate((single_raters['rating'],multi_raters['rating'])))"
   ]
  },
  {
   "cell_type": "code",
   "execution_count": 48,
   "id": "eb1fe3c2",
   "metadata": {},
   "outputs": [
    {
     "name": "stdout",
     "output_type": "stream",
     "text": [
      "p-value = 0.0\n"
     ]
    }
   ],
   "source": [
    "# Shift data sets\n",
    "single_shifted = single_raters['rating'] - single_rating_mean + group_mean\n",
    "multi_shifted =  multi_raters['rating'] - multi_rating_mean + group_mean\n",
    "\n",
    "\n",
    "# Generate bootstrap replicates\n",
    "rand_single = draw_bs_reps(single_shifted,\n",
    "                       np.mean, size=10000)\n",
    "rand_multi = draw_bs_reps(multi_shifted,\n",
    "                       np.mean, size=10000)\n",
    "\n",
    "\n",
    "# Get replicates of difference of means: bs_replicates\n",
    "bs_diff_means = rand_single - rand_multi\n",
    "\n",
    "\n",
    "# Compute and print p-value: p\n",
    "p = np.sum(bs_diff_means <= diff_means) / len(bs_diff_means)\n",
    "print('p-value =', p)"
   ]
  },
  {
   "cell_type": "markdown",
   "id": "84e92988",
   "metadata": {},
   "source": [
    "### User Reviews Metrics\n",
    "how many reviews over the total time they have been reviewing\n",
    "initial time, final time, how many times in between, hist, or relational (frequency vs. word count) scatter"
   ]
  },
  {
   "cell_type": "code",
   "execution_count": 73,
   "id": "ecb1f522",
   "metadata": {},
   "outputs": [
    {
     "data": {
      "text/html": [
       "<div>\n",
       "<style scoped>\n",
       "    .dataframe tbody tr th:only-of-type {\n",
       "        vertical-align: middle;\n",
       "    }\n",
       "\n",
       "    .dataframe tbody tr th {\n",
       "        vertical-align: top;\n",
       "    }\n",
       "\n",
       "    .dataframe thead th {\n",
       "        text-align: right;\n",
       "    }\n",
       "</style>\n",
       "<table border=\"1\" class=\"dataframe\">\n",
       "  <thead>\n",
       "    <tr style=\"text-align: right;\">\n",
       "      <th></th>\n",
       "      <th>user_id</th>\n",
       "      <th>recipe_id</th>\n",
       "      <th>date</th>\n",
       "      <th>rating</th>\n",
       "      <th>review</th>\n",
       "    </tr>\n",
       "  </thead>\n",
       "  <tbody>\n",
       "    <tr>\n",
       "      <th>0</th>\n",
       "      <td>38094</td>\n",
       "      <td>40893</td>\n",
       "      <td>2003-02-17</td>\n",
       "      <td>4</td>\n",
       "      <td>Great with a salad. Cooked on top of stove for...</td>\n",
       "    </tr>\n",
       "    <tr>\n",
       "      <th>1</th>\n",
       "      <td>1293707</td>\n",
       "      <td>40893</td>\n",
       "      <td>2011-12-21</td>\n",
       "      <td>5</td>\n",
       "      <td>So simple, so delicious! Great for chilly fall...</td>\n",
       "    </tr>\n",
       "    <tr>\n",
       "      <th>2</th>\n",
       "      <td>8937</td>\n",
       "      <td>44394</td>\n",
       "      <td>2002-12-01</td>\n",
       "      <td>4</td>\n",
       "      <td>This worked very well and is EASY.  I used not...</td>\n",
       "    </tr>\n",
       "    <tr>\n",
       "      <th>3</th>\n",
       "      <td>126440</td>\n",
       "      <td>85009</td>\n",
       "      <td>2010-02-27</td>\n",
       "      <td>5</td>\n",
       "      <td>I made the Mexican topping and took it to bunk...</td>\n",
       "    </tr>\n",
       "    <tr>\n",
       "      <th>4</th>\n",
       "      <td>57222</td>\n",
       "      <td>85009</td>\n",
       "      <td>2011-10-01</td>\n",
       "      <td>5</td>\n",
       "      <td>Made the cheddar bacon topping, adding a sprin...</td>\n",
       "    </tr>\n",
       "  </tbody>\n",
       "</table>\n",
       "</div>"
      ],
      "text/plain": [
       "   user_id  recipe_id        date  rating  \\\n",
       "0    38094      40893  2003-02-17       4   \n",
       "1  1293707      40893  2011-12-21       5   \n",
       "2     8937      44394  2002-12-01       4   \n",
       "3   126440      85009  2010-02-27       5   \n",
       "4    57222      85009  2011-10-01       5   \n",
       "\n",
       "                                              review  \n",
       "0  Great with a salad. Cooked on top of stove for...  \n",
       "1  So simple, so delicious! Great for chilly fall...  \n",
       "2  This worked very well and is EASY.  I used not...  \n",
       "3  I made the Mexican topping and took it to bunk...  \n",
       "4  Made the cheddar bacon topping, adding a sprin...  "
      ]
     },
     "execution_count": 73,
     "metadata": {},
     "output_type": "execute_result"
    }
   ],
   "source": [
    "interactions.head()"
   ]
  },
  {
   "cell_type": "code",
   "execution_count": 124,
   "id": "bc4e29aa",
   "metadata": {},
   "outputs": [],
   "source": [
    "users = pd.DataFrame(interactions['user_id'].unique())\n",
    "users = users.rename(columns= {0:'user_id'})"
   ]
  },
  {
   "cell_type": "code",
   "execution_count": 125,
   "id": "6966e6d1",
   "metadata": {},
   "outputs": [],
   "source": [
    "users = users.sort_values(by='user_id')\n",
    "users_sorted = users.reset_index(drop=True)"
   ]
  },
  {
   "cell_type": "code",
   "execution_count": 126,
   "id": "3b156cc3",
   "metadata": {},
   "outputs": [
    {
     "data": {
      "text/html": [
       "<div>\n",
       "<style scoped>\n",
       "    .dataframe tbody tr th:only-of-type {\n",
       "        vertical-align: middle;\n",
       "    }\n",
       "\n",
       "    .dataframe tbody tr th {\n",
       "        vertical-align: top;\n",
       "    }\n",
       "\n",
       "    .dataframe thead th {\n",
       "        text-align: right;\n",
       "    }\n",
       "</style>\n",
       "<table border=\"1\" class=\"dataframe\">\n",
       "  <thead>\n",
       "    <tr style=\"text-align: right;\">\n",
       "      <th></th>\n",
       "      <th>user_id</th>\n",
       "    </tr>\n",
       "  </thead>\n",
       "  <tbody>\n",
       "    <tr>\n",
       "      <th>0</th>\n",
       "      <td>1533</td>\n",
       "    </tr>\n",
       "    <tr>\n",
       "      <th>1</th>\n",
       "      <td>1535</td>\n",
       "    </tr>\n",
       "    <tr>\n",
       "      <th>2</th>\n",
       "      <td>1581</td>\n",
       "    </tr>\n",
       "    <tr>\n",
       "      <th>3</th>\n",
       "      <td>1634</td>\n",
       "    </tr>\n",
       "    <tr>\n",
       "      <th>4</th>\n",
       "      <td>1676</td>\n",
       "    </tr>\n",
       "    <tr>\n",
       "      <th>...</th>\n",
       "      <td>...</td>\n",
       "    </tr>\n",
       "    <tr>\n",
       "      <th>226414</th>\n",
       "      <td>2002371755</td>\n",
       "    </tr>\n",
       "    <tr>\n",
       "      <th>226415</th>\n",
       "      <td>2002371792</td>\n",
       "    </tr>\n",
       "    <tr>\n",
       "      <th>226416</th>\n",
       "      <td>2002371843</td>\n",
       "    </tr>\n",
       "    <tr>\n",
       "      <th>226417</th>\n",
       "      <td>2002372464</td>\n",
       "    </tr>\n",
       "    <tr>\n",
       "      <th>226418</th>\n",
       "      <td>2002372706</td>\n",
       "    </tr>\n",
       "  </tbody>\n",
       "</table>\n",
       "<p>226419 rows × 1 columns</p>\n",
       "</div>"
      ],
      "text/plain": [
       "           user_id\n",
       "0             1533\n",
       "1             1535\n",
       "2             1581\n",
       "3             1634\n",
       "4             1676\n",
       "...            ...\n",
       "226414  2002371755\n",
       "226415  2002371792\n",
       "226416  2002371843\n",
       "226417  2002372464\n",
       "226418  2002372706\n",
       "\n",
       "[226419 rows x 1 columns]"
      ]
     },
     "execution_count": 126,
     "metadata": {},
     "output_type": "execute_result"
    }
   ],
   "source": [
    "users_sorted"
   ]
  },
  {
   "cell_type": "code",
   "execution_count": 127,
   "id": "d2d7365d",
   "metadata": {},
   "outputs": [],
   "source": [
    "user_review_counts = pd.DataFrame(interactions['user_id'].value_counts())"
   ]
  },
  {
   "cell_type": "code",
   "execution_count": 129,
   "id": "470cb4ea",
   "metadata": {},
   "outputs": [
    {
     "data": {
      "text/html": [
       "<div>\n",
       "<style scoped>\n",
       "    .dataframe tbody tr th:only-of-type {\n",
       "        vertical-align: middle;\n",
       "    }\n",
       "\n",
       "    .dataframe tbody tr th {\n",
       "        vertical-align: top;\n",
       "    }\n",
       "\n",
       "    .dataframe thead th {\n",
       "        text-align: right;\n",
       "    }\n",
       "</style>\n",
       "<table border=\"1\" class=\"dataframe\">\n",
       "  <thead>\n",
       "    <tr style=\"text-align: right;\">\n",
       "      <th></th>\n",
       "      <th>user_id</th>\n",
       "      <th>date_x</th>\n",
       "      <th>date_y</th>\n",
       "      <th>count</th>\n",
       "    </tr>\n",
       "  </thead>\n",
       "  <tbody>\n",
       "    <tr>\n",
       "      <th>0</th>\n",
       "      <td>1533</td>\n",
       "      <td>2002-02-19</td>\n",
       "      <td>2008-03-01</td>\n",
       "      <td>128</td>\n",
       "    </tr>\n",
       "    <tr>\n",
       "      <th>1</th>\n",
       "      <td>1535</td>\n",
       "      <td>2004-05-22</td>\n",
       "      <td>2018-03-03</td>\n",
       "      <td>794</td>\n",
       "    </tr>\n",
       "    <tr>\n",
       "      <th>2</th>\n",
       "      <td>1581</td>\n",
       "      <td>2013-11-11</td>\n",
       "      <td>2013-11-11</td>\n",
       "      <td>1</td>\n",
       "    </tr>\n",
       "    <tr>\n",
       "      <th>3</th>\n",
       "      <td>1634</td>\n",
       "      <td>2001-07-02</td>\n",
       "      <td>2011-03-09</td>\n",
       "      <td>60</td>\n",
       "    </tr>\n",
       "    <tr>\n",
       "      <th>4</th>\n",
       "      <td>1676</td>\n",
       "      <td>2002-07-24</td>\n",
       "      <td>2014-07-09</td>\n",
       "      <td>31</td>\n",
       "    </tr>\n",
       "  </tbody>\n",
       "</table>\n",
       "</div>"
      ],
      "text/plain": [
       "   user_id     date_x     date_y  count\n",
       "0     1533 2002-02-19 2008-03-01    128\n",
       "1     1535 2004-05-22 2018-03-03    794\n",
       "2     1581 2013-11-11 2013-11-11      1\n",
       "3     1634 2001-07-02 2011-03-09     60\n",
       "4     1676 2002-07-24 2014-07-09     31"
      ]
     },
     "execution_count": 129,
     "metadata": {},
     "output_type": "execute_result"
    }
   ],
   "source": [
    "#user_review_counts[user_review_counts['user_id'] == 37449]['count']\n",
    "users_sorted = users_sorted.merge(user_review_counts, on='user_id')\n",
    "users_sorted.head()"
   ]
  },
  {
   "cell_type": "code",
   "execution_count": 122,
   "id": "f3d55801",
   "metadata": {},
   "outputs": [],
   "source": [
    "# user minimum date\n",
    "date_min = pd.to_datetime(interactions.groupby('user_id')['date'].min())\n",
    "\n",
    "\n",
    "# user maximum date\n",
    "date_max = pd.to_datetime(interactions.groupby('user_id')['date'].max())"
   ]
  },
  {
   "cell_type": "code",
   "execution_count": 123,
   "id": "1a736b51",
   "metadata": {},
   "outputs": [],
   "source": [
    "date_min = pd.DataFrame(date_min)\n",
    "date_max = pd.DataFrame(date_max)"
   ]
  },
  {
   "cell_type": "code",
   "execution_count": 128,
   "id": "7effc420",
   "metadata": {},
   "outputs": [
    {
     "data": {
      "text/html": [
       "<div>\n",
       "<style scoped>\n",
       "    .dataframe tbody tr th:only-of-type {\n",
       "        vertical-align: middle;\n",
       "    }\n",
       "\n",
       "    .dataframe tbody tr th {\n",
       "        vertical-align: top;\n",
       "    }\n",
       "\n",
       "    .dataframe thead th {\n",
       "        text-align: right;\n",
       "    }\n",
       "</style>\n",
       "<table border=\"1\" class=\"dataframe\">\n",
       "  <thead>\n",
       "    <tr style=\"text-align: right;\">\n",
       "      <th></th>\n",
       "      <th>user_id</th>\n",
       "      <th>date_x</th>\n",
       "      <th>date_y</th>\n",
       "    </tr>\n",
       "  </thead>\n",
       "  <tbody>\n",
       "    <tr>\n",
       "      <th>0</th>\n",
       "      <td>1533</td>\n",
       "      <td>2002-02-19</td>\n",
       "      <td>2008-03-01</td>\n",
       "    </tr>\n",
       "    <tr>\n",
       "      <th>1</th>\n",
       "      <td>1535</td>\n",
       "      <td>2004-05-22</td>\n",
       "      <td>2018-03-03</td>\n",
       "    </tr>\n",
       "    <tr>\n",
       "      <th>2</th>\n",
       "      <td>1581</td>\n",
       "      <td>2013-11-11</td>\n",
       "      <td>2013-11-11</td>\n",
       "    </tr>\n",
       "    <tr>\n",
       "      <th>3</th>\n",
       "      <td>1634</td>\n",
       "      <td>2001-07-02</td>\n",
       "      <td>2011-03-09</td>\n",
       "    </tr>\n",
       "    <tr>\n",
       "      <th>4</th>\n",
       "      <td>1676</td>\n",
       "      <td>2002-07-24</td>\n",
       "      <td>2014-07-09</td>\n",
       "    </tr>\n",
       "  </tbody>\n",
       "</table>\n",
       "</div>"
      ],
      "text/plain": [
       "   user_id     date_x     date_y\n",
       "0     1533 2002-02-19 2008-03-01\n",
       "1     1535 2004-05-22 2018-03-03\n",
       "2     1581 2013-11-11 2013-11-11\n",
       "3     1634 2001-07-02 2011-03-09\n",
       "4     1676 2002-07-24 2014-07-09"
      ]
     },
     "execution_count": 128,
     "metadata": {},
     "output_type": "execute_result"
    }
   ],
   "source": [
    "users_sorted = users_sorted.merge(date_min, on='user_id')\n",
    "users_sorted = users_sorted.merge(date_max, on='user_id')\n",
    "users_sorted.head()"
   ]
  },
  {
   "cell_type": "code",
   "execution_count": 130,
   "id": "07ae6488",
   "metadata": {},
   "outputs": [],
   "source": [
    "users_sorted = users_sorted.rename(columns= {'date_x':'initial_date','date_y':'final_date'})"
   ]
  },
  {
   "cell_type": "code",
   "execution_count": 133,
   "id": "b9214e82",
   "metadata": {},
   "outputs": [],
   "source": [
    "\n",
    "#users_sorted.dtypes\n",
    "users_sorted['days_active'] = users_sorted['final_date'] - users_sorted['initial_date']"
   ]
  },
  {
   "cell_type": "code",
   "execution_count": 135,
   "id": "234853b7",
   "metadata": {},
   "outputs": [
    {
     "data": {
      "text/html": [
       "<div>\n",
       "<style scoped>\n",
       "    .dataframe tbody tr th:only-of-type {\n",
       "        vertical-align: middle;\n",
       "    }\n",
       "\n",
       "    .dataframe tbody tr th {\n",
       "        vertical-align: top;\n",
       "    }\n",
       "\n",
       "    .dataframe thead th {\n",
       "        text-align: right;\n",
       "    }\n",
       "</style>\n",
       "<table border=\"1\" class=\"dataframe\">\n",
       "  <thead>\n",
       "    <tr style=\"text-align: right;\">\n",
       "      <th></th>\n",
       "      <th>user_id</th>\n",
       "      <th>initial_date</th>\n",
       "      <th>final_date</th>\n",
       "      <th>count</th>\n",
       "      <th>days_active</th>\n",
       "    </tr>\n",
       "  </thead>\n",
       "  <tbody>\n",
       "    <tr>\n",
       "      <th>0</th>\n",
       "      <td>1533</td>\n",
       "      <td>2002-02-19</td>\n",
       "      <td>2008-03-01</td>\n",
       "      <td>128</td>\n",
       "      <td>2202 days</td>\n",
       "    </tr>\n",
       "    <tr>\n",
       "      <th>1</th>\n",
       "      <td>1535</td>\n",
       "      <td>2004-05-22</td>\n",
       "      <td>2018-03-03</td>\n",
       "      <td>794</td>\n",
       "      <td>5033 days</td>\n",
       "    </tr>\n",
       "    <tr>\n",
       "      <th>2</th>\n",
       "      <td>1581</td>\n",
       "      <td>2013-11-11</td>\n",
       "      <td>2013-11-11</td>\n",
       "      <td>1</td>\n",
       "      <td>0 days</td>\n",
       "    </tr>\n",
       "    <tr>\n",
       "      <th>3</th>\n",
       "      <td>1634</td>\n",
       "      <td>2001-07-02</td>\n",
       "      <td>2011-03-09</td>\n",
       "      <td>60</td>\n",
       "      <td>3537 days</td>\n",
       "    </tr>\n",
       "    <tr>\n",
       "      <th>4</th>\n",
       "      <td>1676</td>\n",
       "      <td>2002-07-24</td>\n",
       "      <td>2014-07-09</td>\n",
       "      <td>31</td>\n",
       "      <td>4368 days</td>\n",
       "    </tr>\n",
       "  </tbody>\n",
       "</table>\n",
       "</div>"
      ],
      "text/plain": [
       "   user_id initial_date final_date  count days_active\n",
       "0     1533   2002-02-19 2008-03-01    128   2202 days\n",
       "1     1535   2004-05-22 2018-03-03    794   5033 days\n",
       "2     1581   2013-11-11 2013-11-11      1      0 days\n",
       "3     1634   2001-07-02 2011-03-09     60   3537 days\n",
       "4     1676   2002-07-24 2014-07-09     31   4368 days"
      ]
     },
     "execution_count": 135,
     "metadata": {},
     "output_type": "execute_result"
    }
   ],
   "source": [
    "users_sorted.head()"
   ]
  },
  {
   "cell_type": "code",
   "execution_count": 142,
   "id": "61100d61",
   "metadata": {},
   "outputs": [],
   "source": [
    "#df['timedelta_column'].dt.days to convert time delta into integers\n",
    "users_sorted['frequency'] = users_sorted['count'] / users_sorted['days_active'].dt.days"
   ]
  },
  {
   "cell_type": "code",
   "execution_count": 154,
   "id": "776dea01",
   "metadata": {},
   "outputs": [],
   "source": [
    "#  df.replace(np.inf, np.nan)\n",
    "users_sorted = users_sorted.replace(np.inf, np.nan)"
   ]
  },
  {
   "cell_type": "code",
   "execution_count": 159,
   "id": "3aa1a246",
   "metadata": {},
   "outputs": [
    {
     "data": {
      "text/html": [
       "<div>\n",
       "<style scoped>\n",
       "    .dataframe tbody tr th:only-of-type {\n",
       "        vertical-align: middle;\n",
       "    }\n",
       "\n",
       "    .dataframe tbody tr th {\n",
       "        vertical-align: top;\n",
       "    }\n",
       "\n",
       "    .dataframe thead th {\n",
       "        text-align: right;\n",
       "    }\n",
       "</style>\n",
       "<table border=\"1\" class=\"dataframe\">\n",
       "  <thead>\n",
       "    <tr style=\"text-align: right;\">\n",
       "      <th></th>\n",
       "      <th>user_id</th>\n",
       "      <th>initial_date</th>\n",
       "      <th>final_date</th>\n",
       "      <th>count</th>\n",
       "      <th>days_active</th>\n",
       "      <th>frequency</th>\n",
       "      <th>rating</th>\n",
       "    </tr>\n",
       "  </thead>\n",
       "  <tbody>\n",
       "    <tr>\n",
       "      <th>0</th>\n",
       "      <td>1533</td>\n",
       "      <td>2002-02-19</td>\n",
       "      <td>2008-03-01</td>\n",
       "      <td>128</td>\n",
       "      <td>2202 days</td>\n",
       "      <td>0.058129</td>\n",
       "      <td>4.710938</td>\n",
       "    </tr>\n",
       "    <tr>\n",
       "      <th>1</th>\n",
       "      <td>1535</td>\n",
       "      <td>2004-05-22</td>\n",
       "      <td>2018-03-03</td>\n",
       "      <td>794</td>\n",
       "      <td>5033 days</td>\n",
       "      <td>0.157759</td>\n",
       "      <td>4.473552</td>\n",
       "    </tr>\n",
       "    <tr>\n",
       "      <th>2</th>\n",
       "      <td>1581</td>\n",
       "      <td>2013-11-11</td>\n",
       "      <td>2013-11-11</td>\n",
       "      <td>1</td>\n",
       "      <td>0 days</td>\n",
       "      <td>NaN</td>\n",
       "      <td>5.000000</td>\n",
       "    </tr>\n",
       "    <tr>\n",
       "      <th>3</th>\n",
       "      <td>1634</td>\n",
       "      <td>2001-07-02</td>\n",
       "      <td>2011-03-09</td>\n",
       "      <td>60</td>\n",
       "      <td>3537 days</td>\n",
       "      <td>0.016964</td>\n",
       "      <td>3.616667</td>\n",
       "    </tr>\n",
       "    <tr>\n",
       "      <th>4</th>\n",
       "      <td>1676</td>\n",
       "      <td>2002-07-24</td>\n",
       "      <td>2014-07-09</td>\n",
       "      <td>31</td>\n",
       "      <td>4368 days</td>\n",
       "      <td>0.007097</td>\n",
       "      <td>4.677419</td>\n",
       "    </tr>\n",
       "    <tr>\n",
       "      <th>...</th>\n",
       "      <td>...</td>\n",
       "      <td>...</td>\n",
       "      <td>...</td>\n",
       "      <td>...</td>\n",
       "      <td>...</td>\n",
       "      <td>...</td>\n",
       "      <td>...</td>\n",
       "    </tr>\n",
       "    <tr>\n",
       "      <th>226414</th>\n",
       "      <td>2002371755</td>\n",
       "      <td>2018-12-19</td>\n",
       "      <td>2018-12-19</td>\n",
       "      <td>1</td>\n",
       "      <td>0 days</td>\n",
       "      <td>NaN</td>\n",
       "      <td>5.000000</td>\n",
       "    </tr>\n",
       "    <tr>\n",
       "      <th>226415</th>\n",
       "      <td>2002371792</td>\n",
       "      <td>2018-12-19</td>\n",
       "      <td>2018-12-19</td>\n",
       "      <td>1</td>\n",
       "      <td>0 days</td>\n",
       "      <td>NaN</td>\n",
       "      <td>4.000000</td>\n",
       "    </tr>\n",
       "    <tr>\n",
       "      <th>226416</th>\n",
       "      <td>2002371843</td>\n",
       "      <td>2018-12-19</td>\n",
       "      <td>2018-12-19</td>\n",
       "      <td>1</td>\n",
       "      <td>0 days</td>\n",
       "      <td>NaN</td>\n",
       "      <td>5.000000</td>\n",
       "    </tr>\n",
       "    <tr>\n",
       "      <th>226417</th>\n",
       "      <td>2002372464</td>\n",
       "      <td>2018-12-19</td>\n",
       "      <td>2018-12-19</td>\n",
       "      <td>1</td>\n",
       "      <td>0 days</td>\n",
       "      <td>NaN</td>\n",
       "      <td>4.000000</td>\n",
       "    </tr>\n",
       "    <tr>\n",
       "      <th>226418</th>\n",
       "      <td>2002372706</td>\n",
       "      <td>2018-12-20</td>\n",
       "      <td>2018-12-20</td>\n",
       "      <td>1</td>\n",
       "      <td>0 days</td>\n",
       "      <td>NaN</td>\n",
       "      <td>5.000000</td>\n",
       "    </tr>\n",
       "  </tbody>\n",
       "</table>\n",
       "<p>226419 rows × 7 columns</p>\n",
       "</div>"
      ],
      "text/plain": [
       "           user_id initial_date final_date  count days_active  frequency  \\\n",
       "0             1533   2002-02-19 2008-03-01    128   2202 days   0.058129   \n",
       "1             1535   2004-05-22 2018-03-03    794   5033 days   0.157759   \n",
       "2             1581   2013-11-11 2013-11-11      1      0 days        NaN   \n",
       "3             1634   2001-07-02 2011-03-09     60   3537 days   0.016964   \n",
       "4             1676   2002-07-24 2014-07-09     31   4368 days   0.007097   \n",
       "...            ...          ...        ...    ...         ...        ...   \n",
       "226414  2002371755   2018-12-19 2018-12-19      1      0 days        NaN   \n",
       "226415  2002371792   2018-12-19 2018-12-19      1      0 days        NaN   \n",
       "226416  2002371843   2018-12-19 2018-12-19      1      0 days        NaN   \n",
       "226417  2002372464   2018-12-19 2018-12-19      1      0 days        NaN   \n",
       "226418  2002372706   2018-12-20 2018-12-20      1      0 days        NaN   \n",
       "\n",
       "          rating  \n",
       "0       4.710938  \n",
       "1       4.473552  \n",
       "2       5.000000  \n",
       "3       3.616667  \n",
       "4       4.677419  \n",
       "...          ...  \n",
       "226414  5.000000  \n",
       "226415  4.000000  \n",
       "226416  5.000000  \n",
       "226417  4.000000  \n",
       "226418  5.000000  \n",
       "\n",
       "[226419 rows x 7 columns]"
      ]
     },
     "execution_count": 159,
     "metadata": {},
     "output_type": "execute_result"
    }
   ],
   "source": [
    "users_sorted"
   ]
  },
  {
   "cell_type": "code",
   "execution_count": 150,
   "id": "42b4314b",
   "metadata": {},
   "outputs": [],
   "source": [
    "avg_rating =  pd.DataFrame(interactions.groupby('user_id')['rating'].mean())\n",
    "users_sorted = users_sorted.merge(avg_rating, on='user_id')"
   ]
  },
  {
   "cell_type": "code",
   "execution_count": 171,
   "id": "2acb1d5b",
   "metadata": {},
   "outputs": [
    {
     "data": {
      "image/png": "[encoded data removed]",
      "text/plain": [
       "<Figure size 640x480 with 1 Axes>"
      ]
     },
     "metadata": {},
     "output_type": "display_data"
    }
   ],
   "source": [
    "sns.boxplot(x = 'rating', data=users_sorted, whis=(15, 100));"
   ]
  },
  {
   "cell_type": "code",
   "execution_count": 162,
   "id": "fe180f5f",
   "metadata": {},
   "outputs": [
    {
     "data": {
      "image/png": "[encoded data removed]",
      "text/plain": [
       "<Figure size 640x480 with 1 Axes>"
      ]
     },
     "metadata": {},
     "output_type": "display_data"
    }
   ],
   "source": [
    "sns.scatterplot(x = 'frequency', y='rating', data = user_sorted);"
   ]
  },
  {
   "cell_type": "code",
   "execution_count": 161,
   "id": "428966d3",
   "metadata": {},
   "outputs": [
    {
     "data": {
      "image/png": "[encoded data removed]",
      "text/plain": [
       "<Figure size 640x480 with 1 Axes>"
      ]
     },
     "metadata": {},
     "output_type": "display_data"
    }
   ],
   "source": [
    "sns.scatterplot(x = 'count', y='rating', data = user_sorted);"
   ]
  },
  {
   "cell_type": "markdown",
   "id": "23e90d4a",
   "metadata": {},
   "source": [
    "Really hard to see what's going on here. Let's do these plots again but without people who have rated less than n amount of times."
   ]
  },
  {
   "cell_type": "code",
   "execution_count": 177,
   "id": "48adfb40",
   "metadata": {},
   "outputs": [],
   "source": [
    "n = 10"
   ]
  },
  {
   "cell_type": "code",
   "execution_count": 191,
   "id": "eace1fca",
   "metadata": {},
   "outputs": [
    {
     "data": {
      "image/png": "[encoded data removed]",
      "text/plain": [
       "<Figure size 640x480 with 1 Axes>"
      ]
     },
     "metadata": {},
     "output_type": "display_data"
    }
   ],
   "source": [
    "sns.scatterplot(x = 'count', y='rating', data = user_sorted[users_sorted['count']>n]);\n",
    "sns.scatterplot(x = 'count', y='rating', data = user_sorted[users_sorted['count']<n], color = 'r');\n",
    "plt.legend(['rare users','frequent users']);"
   ]
  },
  {
   "cell_type": "code",
   "execution_count": 190,
   "id": "47525e53",
   "metadata": {},
   "outputs": [
    {
     "data": {
      "text/plain": [
       "<matplotlib.legend.Legend at 0x1c74958e7d0>"
      ]
     },
     "execution_count": 190,
     "metadata": {},
     "output_type": "execute_result"
    },
    {
     "data": {
      "image/png": "[encoded data removed]",
      "text/plain": [
       "<Figure size 640x480 with 1 Axes>"
      ]
     },
     "metadata": {},
     "output_type": "display_data"
    }
   ],
   "source": [
    "sns.scatterplot(x = 'frequency', y='rating', data = user_sorted[users_sorted['count']<n], color = 'r', alpha = 0.75);\n",
    "sns.scatterplot(x = 'frequency', y='rating', data = user_sorted[users_sorted['count']>n],alpha = 0.75);\n",
    "plt.legend(['rare users','frequent users']);"
   ]
  },
  {
   "cell_type": "markdown",
   "id": "ace195ed",
   "metadata": {},
   "source": [
    "## Notes\n",
    "\n",
    "### EDA Goals\n",
    "- Understand your data:\n",
    "    - user level\n",
    "    - recipe level\n",
    "    - review level\n",
    "\n",
    "How do users behave when they're rating recipes? And eventually a model that represents this\n",
    "\n",
    "Keeping power users is keeping interesting data which is important\n",
    "\n",
    "#### When Plotting: \n",
    "- What is the goal of this plot? Visualization only, no need to change the data\n",
    "\n",
    "\n",
    "#### Creating Metrics:\n",
    "- filter origin data into a separate representative datafram\n",
    "- .isin() will be helpful\n",
    "- how many reviews over the total time they have been reviewing initial time, final time, how many times in between, hist, or relational (frequency vs. word count) scatter\n",
    "- relationship between reviews & steps/time\n",
    "- user level metrics each user, ti, tf, average review, frequency\n",
    "- do the same for recipe level metrics\n",
    "\n",
    "Try vectorizing words in python, take all the words, how many times do they occur, deliminate by ''\n",
    "\n",
    "#### Using Inferential Statistics:\n",
    "- difference of mean\n",
    "- null hyp is these two groups are the same,\n",
    "\n",
    "- average number of words\n",
    "- get p-value, measure p-value against own CI that I choose,\n",
    "- then reject or accept\n",
    "\n",
    "- whats the avg\n",
    "- mean\n",
    "- plot users average time difference between ratings mean"
   ]
  },
  {
   "cell_type": "code",
   "execution_count": 107,
   "id": "314b4510",
   "metadata": {},
   "outputs": [
    {
     "data": {
      "text/plain": [
       "'This worked very well and is EASY.  I used not quite a whole package (10oz) of white chips.  Great!'"
      ]
     },
     "execution_count": 107,
     "metadata": {},
     "output_type": "execute_result"
    }
   ],
   "source": [
    "interactions['review'][2]"
   ]
  },
  {
   "cell_type": "code",
   "execution_count": null,
   "id": "901dd818",
   "metadata": {},
   "outputs": [],
   "source": []
  }
 ],
 "metadata": {
  "kernelspec": {
   "display_name": "Python 3 (ipykernel)",
   "language": "python",
   "name": "python3"
  },
  "language_info": {
   "codemirror_mode": {
    "name": "ipython",
    "version": 3
   },
   "file_extension": ".py",
   "mimetype": "text/x-python",
   "name": "python",
   "nbconvert_exporter": "python",
   "pygments_lexer": "ipython3",
   "version": "3.11.5"
  }
 },
 "nbformat": 4,
 "nbformat_minor": 5
}
