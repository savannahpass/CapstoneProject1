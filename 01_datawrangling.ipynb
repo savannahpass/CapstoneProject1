{
 "cells": [
  {
   "cell_type": "markdown",
   "id": "f1d9ab0d",
   "metadata": {},
   "source": [
    "### Capstone Project\n",
    "#### Data Wrangling\n",
    "\n",
    "DataSource:\n",
    "https://www.kaggle.com/datasets/shuyangli94/food-com-recipes-and-user-interactions\n",
    "\n",
    "Using 'RAW_interactions.csv' & 'RAW_recipes.csv')"
   ]
  },
  {
   "cell_type": "code",
   "execution_count": 1,
   "id": "70cae595",
   "metadata": {},
   "outputs": [],
   "source": [
    "import pandas as pd\n",
    "import matplotlib.pyplot as plt"
   ]
  },
  {
   "cell_type": "markdown",
   "id": "f33046f4",
   "metadata": {},
   "source": [
    "Data Collection\n",
    "\n",
    "* Goal: Organize your data to streamline the next steps of your\n",
    "capstone\n",
    "* Time estimate: 1-2 hours\n",
    "    - Data loading\n",
    "    - Data joining\n",
    "    - Hint: Data Collection will require the use of the pandas library,\n",
    "and functions like read_csv(), depending on the type of data\n",
    "you want to read in!\n",
    "    - Hint: when adding one dataset to another, make sure you use\n",
    "the right function: you might want to merge, join, or\n",
    "concatenate"
   ]
  },
  {
   "cell_type": "code",
   "execution_count": 11,
   "id": "20feb9ea",
   "metadata": {},
   "outputs": [],
   "source": [
    "interactions = pd.read_csv('data/RAW_interactions.csv')\n",
    "recipes = pd.read_csv('data/RAW_recipes.csv')"
   ]
  },
  {
   "cell_type": "code",
   "execution_count": 7,
   "id": "ebd767a2",
   "metadata": {},
   "outputs": [
    {
     "data": {
      "text/plain": [
       "Index(['name', 'id', 'minutes', 'contributor_id', 'submitted', 'tags',\n",
       "       'nutrition', 'n_steps', 'steps', 'description', 'ingredients',\n",
       "       'n_ingredients'],\n",
       "      dtype='object')"
      ]
     },
     "execution_count": 7,
     "metadata": {},
     "output_type": "execute_result"
    }
   ],
   "source": [
    "recipes.columns"
   ]
  },
  {
   "cell_type": "code",
   "execution_count": 6,
   "id": "367c528f",
   "metadata": {},
   "outputs": [
    {
     "data": {
      "text/plain": [
       "RangeIndex(start=0, stop=231637, step=1)"
      ]
     },
     "execution_count": 6,
     "metadata": {},
     "output_type": "execute_result"
    }
   ],
   "source": [
    "recipes.index"
   ]
  },
  {
   "cell_type": "code",
   "execution_count": 9,
   "id": "a18de167",
   "metadata": {},
   "outputs": [
    {
     "data": {
      "text/plain": [
       "name              object\n",
       "id                 int64\n",
       "minutes            int64\n",
       "contributor_id     int64\n",
       "submitted         object\n",
       "tags              object\n",
       "nutrition         object\n",
       "n_steps            int64\n",
       "steps             object\n",
       "description       object\n",
       "ingredients       object\n",
       "n_ingredients      int64\n",
       "dtype: object"
      ]
     },
     "execution_count": 9,
     "metadata": {},
     "output_type": "execute_result"
    }
   ],
   "source": [
    "recipes.dtypes"
   ]
  },
  {
   "cell_type": "code",
   "execution_count": 12,
   "id": "d3f61245",
   "metadata": {},
   "outputs": [
    {
     "data": {
      "text/plain": [
       "Index(['user_id', 'recipe_id', 'date', 'rating', 'review'], dtype='object')"
      ]
     },
     "execution_count": 12,
     "metadata": {},
     "output_type": "execute_result"
    }
   ],
   "source": [
    "interactions.columns"
   ]
  },
  {
   "cell_type": "code",
   "execution_count": 13,
   "id": "cd325525",
   "metadata": {},
   "outputs": [
    {
     "data": {
      "text/plain": [
       "RangeIndex(start=0, stop=1132367, step=1)"
      ]
     },
     "execution_count": 13,
     "metadata": {},
     "output_type": "execute_result"
    }
   ],
   "source": [
    "interactions.index"
   ]
  },
  {
   "cell_type": "code",
   "execution_count": 14,
   "id": "3830bc8c",
   "metadata": {},
   "outputs": [
    {
     "data": {
      "text/html": [
       "<div>\n",
       "<style scoped>\n",
       "    .dataframe tbody tr th:only-of-type {\n",
       "        vertical-align: middle;\n",
       "    }\n",
       "\n",
       "    .dataframe tbody tr th {\n",
       "        vertical-align: top;\n",
       "    }\n",
       "\n",
       "    .dataframe thead th {\n",
       "        text-align: right;\n",
       "    }\n",
       "</style>\n",
       "<table border=\"1\" class=\"dataframe\">\n",
       "  <thead>\n",
       "    <tr style=\"text-align: right;\">\n",
       "      <th></th>\n",
       "      <th>name</th>\n",
       "      <th>id</th>\n",
       "      <th>minutes</th>\n",
       "      <th>contributor_id</th>\n",
       "      <th>submitted</th>\n",
       "      <th>tags</th>\n",
       "      <th>nutrition</th>\n",
       "      <th>n_steps</th>\n",
       "      <th>steps</th>\n",
       "      <th>description</th>\n",
       "      <th>ingredients</th>\n",
       "      <th>n_ingredients</th>\n",
       "    </tr>\n",
       "  </thead>\n",
       "  <tbody>\n",
       "    <tr>\n",
       "      <th>0</th>\n",
       "      <td>arriba   baked winter squash mexican style</td>\n",
       "      <td>137739</td>\n",
       "      <td>55</td>\n",
       "      <td>47892</td>\n",
       "      <td>2005-09-16</td>\n",
       "      <td>['60-minutes-or-less', 'time-to-make', 'course...</td>\n",
       "      <td>[51.5, 0.0, 13.0, 0.0, 2.0, 0.0, 4.0]</td>\n",
       "      <td>11</td>\n",
       "      <td>['make a choice and proceed with recipe', 'dep...</td>\n",
       "      <td>autumn is my favorite time of year to cook! th...</td>\n",
       "      <td>['winter squash', 'mexican seasoning', 'mixed ...</td>\n",
       "      <td>7</td>\n",
       "    </tr>\n",
       "    <tr>\n",
       "      <th>1</th>\n",
       "      <td>a bit different  breakfast pizza</td>\n",
       "      <td>31490</td>\n",
       "      <td>30</td>\n",
       "      <td>26278</td>\n",
       "      <td>2002-06-17</td>\n",
       "      <td>['30-minutes-or-less', 'time-to-make', 'course...</td>\n",
       "      <td>[173.4, 18.0, 0.0, 17.0, 22.0, 35.0, 1.0]</td>\n",
       "      <td>9</td>\n",
       "      <td>['preheat oven to 425 degrees f', 'press dough...</td>\n",
       "      <td>this recipe calls for the crust to be prebaked...</td>\n",
       "      <td>['prepared pizza crust', 'sausage patty', 'egg...</td>\n",
       "      <td>6</td>\n",
       "    </tr>\n",
       "    <tr>\n",
       "      <th>2</th>\n",
       "      <td>all in the kitchen  chili</td>\n",
       "      <td>112140</td>\n",
       "      <td>130</td>\n",
       "      <td>196586</td>\n",
       "      <td>2005-02-25</td>\n",
       "      <td>['time-to-make', 'course', 'preparation', 'mai...</td>\n",
       "      <td>[269.8, 22.0, 32.0, 48.0, 39.0, 27.0, 5.0]</td>\n",
       "      <td>6</td>\n",
       "      <td>['brown ground beef in large pot', 'add choppe...</td>\n",
       "      <td>this modified version of 'mom's' chili was a h...</td>\n",
       "      <td>['ground beef', 'yellow onions', 'diced tomato...</td>\n",
       "      <td>13</td>\n",
       "    </tr>\n",
       "    <tr>\n",
       "      <th>3</th>\n",
       "      <td>alouette  potatoes</td>\n",
       "      <td>59389</td>\n",
       "      <td>45</td>\n",
       "      <td>68585</td>\n",
       "      <td>2003-04-14</td>\n",
       "      <td>['60-minutes-or-less', 'time-to-make', 'course...</td>\n",
       "      <td>[368.1, 17.0, 10.0, 2.0, 14.0, 8.0, 20.0]</td>\n",
       "      <td>11</td>\n",
       "      <td>['place potatoes in a large pot of lightly sal...</td>\n",
       "      <td>this is a super easy, great tasting, make ahea...</td>\n",
       "      <td>['spreadable cheese with garlic and herbs', 'n...</td>\n",
       "      <td>11</td>\n",
       "    </tr>\n",
       "    <tr>\n",
       "      <th>4</th>\n",
       "      <td>amish  tomato ketchup  for canning</td>\n",
       "      <td>44061</td>\n",
       "      <td>190</td>\n",
       "      <td>41706</td>\n",
       "      <td>2002-10-25</td>\n",
       "      <td>['weeknight', 'time-to-make', 'course', 'main-...</td>\n",
       "      <td>[352.9, 1.0, 337.0, 23.0, 3.0, 0.0, 28.0]</td>\n",
       "      <td>5</td>\n",
       "      <td>['mix all ingredients&amp; boil for 2 1 / 2 hours ...</td>\n",
       "      <td>my dh's amish mother raised him on this recipe...</td>\n",
       "      <td>['tomato juice', 'apple cider vinegar', 'sugar...</td>\n",
       "      <td>8</td>\n",
       "    </tr>\n",
       "  </tbody>\n",
       "</table>\n",
       "</div>"
      ],
      "text/plain": [
       "                                         name      id  minutes  \\\n",
       "0  arriba   baked winter squash mexican style  137739       55   \n",
       "1            a bit different  breakfast pizza   31490       30   \n",
       "2                   all in the kitchen  chili  112140      130   \n",
       "3                          alouette  potatoes   59389       45   \n",
       "4          amish  tomato ketchup  for canning   44061      190   \n",
       "\n",
       "   contributor_id   submitted  \\\n",
       "0           47892  2005-09-16   \n",
       "1           26278  2002-06-17   \n",
       "2          196586  2005-02-25   \n",
       "3           68585  2003-04-14   \n",
       "4           41706  2002-10-25   \n",
       "\n",
       "                                                tags  \\\n",
       "0  ['60-minutes-or-less', 'time-to-make', 'course...   \n",
       "1  ['30-minutes-or-less', 'time-to-make', 'course...   \n",
       "2  ['time-to-make', 'course', 'preparation', 'mai...   \n",
       "3  ['60-minutes-or-less', 'time-to-make', 'course...   \n",
       "4  ['weeknight', 'time-to-make', 'course', 'main-...   \n",
       "\n",
       "                                    nutrition  n_steps  \\\n",
       "0       [51.5, 0.0, 13.0, 0.0, 2.0, 0.0, 4.0]       11   \n",
       "1   [173.4, 18.0, 0.0, 17.0, 22.0, 35.0, 1.0]        9   \n",
       "2  [269.8, 22.0, 32.0, 48.0, 39.0, 27.0, 5.0]        6   \n",
       "3   [368.1, 17.0, 10.0, 2.0, 14.0, 8.0, 20.0]       11   \n",
       "4   [352.9, 1.0, 337.0, 23.0, 3.0, 0.0, 28.0]        5   \n",
       "\n",
       "                                               steps  \\\n",
       "0  ['make a choice and proceed with recipe', 'dep...   \n",
       "1  ['preheat oven to 425 degrees f', 'press dough...   \n",
       "2  ['brown ground beef in large pot', 'add choppe...   \n",
       "3  ['place potatoes in a large pot of lightly sal...   \n",
       "4  ['mix all ingredients& boil for 2 1 / 2 hours ...   \n",
       "\n",
       "                                         description  \\\n",
       "0  autumn is my favorite time of year to cook! th...   \n",
       "1  this recipe calls for the crust to be prebaked...   \n",
       "2  this modified version of 'mom's' chili was a h...   \n",
       "3  this is a super easy, great tasting, make ahea...   \n",
       "4  my dh's amish mother raised him on this recipe...   \n",
       "\n",
       "                                         ingredients  n_ingredients  \n",
       "0  ['winter squash', 'mexican seasoning', 'mixed ...              7  \n",
       "1  ['prepared pizza crust', 'sausage patty', 'egg...              6  \n",
       "2  ['ground beef', 'yellow onions', 'diced tomato...             13  \n",
       "3  ['spreadable cheese with garlic and herbs', 'n...             11  \n",
       "4  ['tomato juice', 'apple cider vinegar', 'sugar...              8  "
      ]
     },
     "execution_count": 14,
     "metadata": {},
     "output_type": "execute_result"
    }
   ],
   "source": [
    "recipes.head()"
   ]
  },
  {
   "cell_type": "code",
   "execution_count": 15,
   "id": "c4864393",
   "metadata": {},
   "outputs": [
    {
     "data": {
      "text/html": [
       "<div>\n",
       "<style scoped>\n",
       "    .dataframe tbody tr th:only-of-type {\n",
       "        vertical-align: middle;\n",
       "    }\n",
       "\n",
       "    .dataframe tbody tr th {\n",
       "        vertical-align: top;\n",
       "    }\n",
       "\n",
       "    .dataframe thead th {\n",
       "        text-align: right;\n",
       "    }\n",
       "</style>\n",
       "<table border=\"1\" class=\"dataframe\">\n",
       "  <thead>\n",
       "    <tr style=\"text-align: right;\">\n",
       "      <th></th>\n",
       "      <th>user_id</th>\n",
       "      <th>recipe_id</th>\n",
       "      <th>date</th>\n",
       "      <th>rating</th>\n",
       "      <th>review</th>\n",
       "    </tr>\n",
       "  </thead>\n",
       "  <tbody>\n",
       "    <tr>\n",
       "      <th>0</th>\n",
       "      <td>38094</td>\n",
       "      <td>40893</td>\n",
       "      <td>2003-02-17</td>\n",
       "      <td>4</td>\n",
       "      <td>Great with a salad. Cooked on top of stove for...</td>\n",
       "    </tr>\n",
       "    <tr>\n",
       "      <th>1</th>\n",
       "      <td>1293707</td>\n",
       "      <td>40893</td>\n",
       "      <td>2011-12-21</td>\n",
       "      <td>5</td>\n",
       "      <td>So simple, so delicious! Great for chilly fall...</td>\n",
       "    </tr>\n",
       "    <tr>\n",
       "      <th>2</th>\n",
       "      <td>8937</td>\n",
       "      <td>44394</td>\n",
       "      <td>2002-12-01</td>\n",
       "      <td>4</td>\n",
       "      <td>This worked very well and is EASY.  I used not...</td>\n",
       "    </tr>\n",
       "    <tr>\n",
       "      <th>3</th>\n",
       "      <td>126440</td>\n",
       "      <td>85009</td>\n",
       "      <td>2010-02-27</td>\n",
       "      <td>5</td>\n",
       "      <td>I made the Mexican topping and took it to bunk...</td>\n",
       "    </tr>\n",
       "    <tr>\n",
       "      <th>4</th>\n",
       "      <td>57222</td>\n",
       "      <td>85009</td>\n",
       "      <td>2011-10-01</td>\n",
       "      <td>5</td>\n",
       "      <td>Made the cheddar bacon topping, adding a sprin...</td>\n",
       "    </tr>\n",
       "  </tbody>\n",
       "</table>\n",
       "</div>"
      ],
      "text/plain": [
       "   user_id  recipe_id        date  rating  \\\n",
       "0    38094      40893  2003-02-17       4   \n",
       "1  1293707      40893  2011-12-21       5   \n",
       "2     8937      44394  2002-12-01       4   \n",
       "3   126440      85009  2010-02-27       5   \n",
       "4    57222      85009  2011-10-01       5   \n",
       "\n",
       "                                              review  \n",
       "0  Great with a salad. Cooked on top of stove for...  \n",
       "1  So simple, so delicious! Great for chilly fall...  \n",
       "2  This worked very well and is EASY.  I used not...  \n",
       "3  I made the Mexican topping and took it to bunk...  \n",
       "4  Made the cheddar bacon topping, adding a sprin...  "
      ]
     },
     "execution_count": 15,
     "metadata": {},
     "output_type": "execute_result"
    }
   ],
   "source": [
    "interactions.head()"
   ]
  },
  {
   "cell_type": "code",
   "execution_count": 21,
   "id": "3fd45794",
   "metadata": {},
   "outputs": [
    {
     "data": {
      "text/plain": [
       "user_id        0\n",
       "recipe_id      0\n",
       "date           0\n",
       "rating         0\n",
       "review       169\n",
       "dtype: int64"
      ]
     },
     "execution_count": 21,
     "metadata": {},
     "output_type": "execute_result"
    }
   ],
   "source": [
    "interactions.isna().sum()"
   ]
  },
  {
   "cell_type": "code",
   "execution_count": 22,
   "id": "1453c266",
   "metadata": {},
   "outputs": [
    {
     "data": {
      "text/plain": [
       "name                 1\n",
       "id                   0\n",
       "minutes              0\n",
       "contributor_id       0\n",
       "submitted            0\n",
       "tags                 0\n",
       "nutrition            0\n",
       "n_steps              0\n",
       "steps                0\n",
       "description       4979\n",
       "ingredients          0\n",
       "n_ingredients        0\n",
       "dtype: int64"
      ]
     },
     "execution_count": 22,
     "metadata": {},
     "output_type": "execute_result"
    }
   ],
   "source": [
    "recipes.isna().sum()"
   ]
  },
  {
   "cell_type": "code",
   "execution_count": 23,
   "id": "1bed02e5",
   "metadata": {},
   "outputs": [],
   "source": [
    "# drop interactions with empty reviews\n",
    "interactions =  interactions.dropna(inplace=True)"
   ]
  },
  {
   "cell_type": "code",
   "execution_count": 25,
   "id": "1909f0cc",
   "metadata": {},
   "outputs": [
    {
     "data": {
      "text/plain": [
       "Index([      0,       1,       2,       3,       4,       5,       6,       7,\n",
       "             8,       9,\n",
       "       ...\n",
       "       1132357, 1132358, 1132359, 1132360, 1132361, 1132362, 1132363, 1132364,\n",
       "       1132365, 1132366],\n",
       "      dtype='int64', length=1132198)"
      ]
     },
     "execution_count": 25,
     "metadata": {},
     "output_type": "execute_result"
    }
   ],
   "source": [
    "interactions.index"
   ]
  },
  {
   "cell_type": "code",
   "execution_count": 27,
   "id": "8c31e9a4",
   "metadata": {},
   "outputs": [
    {
     "data": {
      "text/html": [
       "<div>\n",
       "<style scoped>\n",
       "    .dataframe tbody tr th:only-of-type {\n",
       "        vertical-align: middle;\n",
       "    }\n",
       "\n",
       "    .dataframe tbody tr th {\n",
       "        vertical-align: top;\n",
       "    }\n",
       "\n",
       "    .dataframe thead th {\n",
       "        text-align: right;\n",
       "    }\n",
       "</style>\n",
       "<table border=\"1\" class=\"dataframe\">\n",
       "  <thead>\n",
       "    <tr style=\"text-align: right;\">\n",
       "      <th></th>\n",
       "      <th>name</th>\n",
       "      <th>submitted</th>\n",
       "      <th>tags</th>\n",
       "      <th>nutrition</th>\n",
       "      <th>steps</th>\n",
       "      <th>description</th>\n",
       "      <th>ingredients</th>\n",
       "    </tr>\n",
       "  </thead>\n",
       "  <tbody>\n",
       "    <tr>\n",
       "      <th>0</th>\n",
       "      <td>arriba   baked winter squash mexican style</td>\n",
       "      <td>2005-09-16</td>\n",
       "      <td>['60-minutes-or-less', 'time-to-make', 'course...</td>\n",
       "      <td>[51.5, 0.0, 13.0, 0.0, 2.0, 0.0, 4.0]</td>\n",
       "      <td>['make a choice and proceed with recipe', 'dep...</td>\n",
       "      <td>autumn is my favorite time of year to cook! th...</td>\n",
       "      <td>['winter squash', 'mexican seasoning', 'mixed ...</td>\n",
       "    </tr>\n",
       "    <tr>\n",
       "      <th>1</th>\n",
       "      <td>a bit different  breakfast pizza</td>\n",
       "      <td>2002-06-17</td>\n",
       "      <td>['30-minutes-or-less', 'time-to-make', 'course...</td>\n",
       "      <td>[173.4, 18.0, 0.0, 17.0, 22.0, 35.0, 1.0]</td>\n",
       "      <td>['preheat oven to 425 degrees f', 'press dough...</td>\n",
       "      <td>this recipe calls for the crust to be prebaked...</td>\n",
       "      <td>['prepared pizza crust', 'sausage patty', 'egg...</td>\n",
       "    </tr>\n",
       "    <tr>\n",
       "      <th>2</th>\n",
       "      <td>all in the kitchen  chili</td>\n",
       "      <td>2005-02-25</td>\n",
       "      <td>['time-to-make', 'course', 'preparation', 'mai...</td>\n",
       "      <td>[269.8, 22.0, 32.0, 48.0, 39.0, 27.0, 5.0]</td>\n",
       "      <td>['brown ground beef in large pot', 'add choppe...</td>\n",
       "      <td>this modified version of 'mom's' chili was a h...</td>\n",
       "      <td>['ground beef', 'yellow onions', 'diced tomato...</td>\n",
       "    </tr>\n",
       "    <tr>\n",
       "      <th>3</th>\n",
       "      <td>alouette  potatoes</td>\n",
       "      <td>2003-04-14</td>\n",
       "      <td>['60-minutes-or-less', 'time-to-make', 'course...</td>\n",
       "      <td>[368.1, 17.0, 10.0, 2.0, 14.0, 8.0, 20.0]</td>\n",
       "      <td>['place potatoes in a large pot of lightly sal...</td>\n",
       "      <td>this is a super easy, great tasting, make ahea...</td>\n",
       "      <td>['spreadable cheese with garlic and herbs', 'n...</td>\n",
       "    </tr>\n",
       "    <tr>\n",
       "      <th>4</th>\n",
       "      <td>amish  tomato ketchup  for canning</td>\n",
       "      <td>2002-10-25</td>\n",
       "      <td>['weeknight', 'time-to-make', 'course', 'main-...</td>\n",
       "      <td>[352.9, 1.0, 337.0, 23.0, 3.0, 0.0, 28.0]</td>\n",
       "      <td>['mix all ingredients&amp; boil for 2 1 / 2 hours ...</td>\n",
       "      <td>my dh's amish mother raised him on this recipe...</td>\n",
       "      <td>['tomato juice', 'apple cider vinegar', 'sugar...</td>\n",
       "    </tr>\n",
       "    <tr>\n",
       "      <th>...</th>\n",
       "      <td>...</td>\n",
       "      <td>...</td>\n",
       "      <td>...</td>\n",
       "      <td>...</td>\n",
       "      <td>...</td>\n",
       "      <td>...</td>\n",
       "      <td>...</td>\n",
       "    </tr>\n",
       "    <tr>\n",
       "      <th>231632</th>\n",
       "      <td>zydeco soup</td>\n",
       "      <td>2012-08-29</td>\n",
       "      <td>['ham', '60-minutes-or-less', 'time-to-make', ...</td>\n",
       "      <td>[415.2, 26.0, 34.0, 26.0, 44.0, 21.0, 15.0]</td>\n",
       "      <td>['heat oil in a 4-quart dutch oven', 'add cele...</td>\n",
       "      <td>this is a delicious soup that i originally fou...</td>\n",
       "      <td>['celery', 'onion', 'green sweet pepper', 'gar...</td>\n",
       "    </tr>\n",
       "    <tr>\n",
       "      <th>231633</th>\n",
       "      <td>zydeco spice mix</td>\n",
       "      <td>2013-01-09</td>\n",
       "      <td>['15-minutes-or-less', 'time-to-make', 'course...</td>\n",
       "      <td>[14.8, 0.0, 2.0, 58.0, 1.0, 0.0, 1.0]</td>\n",
       "      <td>['mix all ingredients together thoroughly']</td>\n",
       "      <td>this spice mix will make your taste buds dance!</td>\n",
       "      <td>['paprika', 'salt', 'garlic powder', 'onion po...</td>\n",
       "    </tr>\n",
       "    <tr>\n",
       "      <th>231634</th>\n",
       "      <td>zydeco ya ya deviled eggs</td>\n",
       "      <td>2008-06-07</td>\n",
       "      <td>['60-minutes-or-less', 'time-to-make', 'course...</td>\n",
       "      <td>[59.2, 6.0, 2.0, 3.0, 6.0, 5.0, 0.0]</td>\n",
       "      <td>['in a bowl , combine the mashed yolks and may...</td>\n",
       "      <td>deviled eggs, cajun-style</td>\n",
       "      <td>['hard-cooked eggs', 'mayonnaise', 'dijon must...</td>\n",
       "    </tr>\n",
       "    <tr>\n",
       "      <th>231635</th>\n",
       "      <td>cookies by design   cookies on a stick</td>\n",
       "      <td>2008-04-15</td>\n",
       "      <td>['30-minutes-or-less', 'time-to-make', 'course...</td>\n",
       "      <td>[188.0, 11.0, 57.0, 11.0, 7.0, 21.0, 9.0]</td>\n",
       "      <td>['place melted butter in a large mixing bowl a...</td>\n",
       "      <td>i've heard of the 'cookies by design' company,...</td>\n",
       "      <td>['butter', 'eagle brand condensed milk', 'ligh...</td>\n",
       "    </tr>\n",
       "    <tr>\n",
       "      <th>231636</th>\n",
       "      <td>cookies by design   sugar shortbread cookies</td>\n",
       "      <td>2008-04-15</td>\n",
       "      <td>['30-minutes-or-less', 'time-to-make', 'course...</td>\n",
       "      <td>[174.9, 14.0, 33.0, 4.0, 4.0, 11.0, 6.0]</td>\n",
       "      <td>['whip sugar and shortening in a large bowl , ...</td>\n",
       "      <td>i've heard of the 'cookies by design' company,...</td>\n",
       "      <td>['granulated sugar', 'shortening', 'eggs', 'fl...</td>\n",
       "    </tr>\n",
       "  </tbody>\n",
       "</table>\n",
       "<p>231637 rows × 7 columns</p>\n",
       "</div>"
      ],
      "text/plain": [
       "                                                name   submitted  \\\n",
       "0         arriba   baked winter squash mexican style  2005-09-16   \n",
       "1                   a bit different  breakfast pizza  2002-06-17   \n",
       "2                          all in the kitchen  chili  2005-02-25   \n",
       "3                                 alouette  potatoes  2003-04-14   \n",
       "4                 amish  tomato ketchup  for canning  2002-10-25   \n",
       "...                                              ...         ...   \n",
       "231632                                   zydeco soup  2012-08-29   \n",
       "231633                              zydeco spice mix  2013-01-09   \n",
       "231634                     zydeco ya ya deviled eggs  2008-06-07   \n",
       "231635        cookies by design   cookies on a stick  2008-04-15   \n",
       "231636  cookies by design   sugar shortbread cookies  2008-04-15   \n",
       "\n",
       "                                                     tags  \\\n",
       "0       ['60-minutes-or-less', 'time-to-make', 'course...   \n",
       "1       ['30-minutes-or-less', 'time-to-make', 'course...   \n",
       "2       ['time-to-make', 'course', 'preparation', 'mai...   \n",
       "3       ['60-minutes-or-less', 'time-to-make', 'course...   \n",
       "4       ['weeknight', 'time-to-make', 'course', 'main-...   \n",
       "...                                                   ...   \n",
       "231632  ['ham', '60-minutes-or-less', 'time-to-make', ...   \n",
       "231633  ['15-minutes-or-less', 'time-to-make', 'course...   \n",
       "231634  ['60-minutes-or-less', 'time-to-make', 'course...   \n",
       "231635  ['30-minutes-or-less', 'time-to-make', 'course...   \n",
       "231636  ['30-minutes-or-less', 'time-to-make', 'course...   \n",
       "\n",
       "                                          nutrition  \\\n",
       "0             [51.5, 0.0, 13.0, 0.0, 2.0, 0.0, 4.0]   \n",
       "1         [173.4, 18.0, 0.0, 17.0, 22.0, 35.0, 1.0]   \n",
       "2        [269.8, 22.0, 32.0, 48.0, 39.0, 27.0, 5.0]   \n",
       "3         [368.1, 17.0, 10.0, 2.0, 14.0, 8.0, 20.0]   \n",
       "4         [352.9, 1.0, 337.0, 23.0, 3.0, 0.0, 28.0]   \n",
       "...                                             ...   \n",
       "231632  [415.2, 26.0, 34.0, 26.0, 44.0, 21.0, 15.0]   \n",
       "231633        [14.8, 0.0, 2.0, 58.0, 1.0, 0.0, 1.0]   \n",
       "231634         [59.2, 6.0, 2.0, 3.0, 6.0, 5.0, 0.0]   \n",
       "231635    [188.0, 11.0, 57.0, 11.0, 7.0, 21.0, 9.0]   \n",
       "231636     [174.9, 14.0, 33.0, 4.0, 4.0, 11.0, 6.0]   \n",
       "\n",
       "                                                    steps  \\\n",
       "0       ['make a choice and proceed with recipe', 'dep...   \n",
       "1       ['preheat oven to 425 degrees f', 'press dough...   \n",
       "2       ['brown ground beef in large pot', 'add choppe...   \n",
       "3       ['place potatoes in a large pot of lightly sal...   \n",
       "4       ['mix all ingredients& boil for 2 1 / 2 hours ...   \n",
       "...                                                   ...   \n",
       "231632  ['heat oil in a 4-quart dutch oven', 'add cele...   \n",
       "231633        ['mix all ingredients together thoroughly']   \n",
       "231634  ['in a bowl , combine the mashed yolks and may...   \n",
       "231635  ['place melted butter in a large mixing bowl a...   \n",
       "231636  ['whip sugar and shortening in a large bowl , ...   \n",
       "\n",
       "                                              description  \\\n",
       "0       autumn is my favorite time of year to cook! th...   \n",
       "1       this recipe calls for the crust to be prebaked...   \n",
       "2       this modified version of 'mom's' chili was a h...   \n",
       "3       this is a super easy, great tasting, make ahea...   \n",
       "4       my dh's amish mother raised him on this recipe...   \n",
       "...                                                   ...   \n",
       "231632  this is a delicious soup that i originally fou...   \n",
       "231633    this spice mix will make your taste buds dance!   \n",
       "231634                          deviled eggs, cajun-style   \n",
       "231635  i've heard of the 'cookies by design' company,...   \n",
       "231636  i've heard of the 'cookies by design' company,...   \n",
       "\n",
       "                                              ingredients  \n",
       "0       ['winter squash', 'mexican seasoning', 'mixed ...  \n",
       "1       ['prepared pizza crust', 'sausage patty', 'egg...  \n",
       "2       ['ground beef', 'yellow onions', 'diced tomato...  \n",
       "3       ['spreadable cheese with garlic and herbs', 'n...  \n",
       "4       ['tomato juice', 'apple cider vinegar', 'sugar...  \n",
       "...                                                   ...  \n",
       "231632  ['celery', 'onion', 'green sweet pepper', 'gar...  \n",
       "231633  ['paprika', 'salt', 'garlic powder', 'onion po...  \n",
       "231634  ['hard-cooked eggs', 'mayonnaise', 'dijon must...  \n",
       "231635  ['butter', 'eagle brand condensed milk', 'ligh...  \n",
       "231636  ['granulated sugar', 'shortening', 'eggs', 'fl...  \n",
       "\n",
       "[231637 rows x 7 columns]"
      ]
     },
     "execution_count": 27,
     "metadata": {},
     "output_type": "execute_result"
    }
   ],
   "source": [
    "recipes.select_dtypes('object')"
   ]
  },
  {
   "cell_type": "code",
   "execution_count": 31,
   "id": "66e9dd95",
   "metadata": {},
   "outputs": [],
   "source": [
    "# Change submitted to datetime\n",
    "recipes['submitted'] = pd.to_datetime(recipes['submitted'])\n",
    "# recipes['nutrition'] this is a string should I change it to an array"
   ]
  },
  {
   "cell_type": "code",
   "execution_count": 97,
   "id": "766cbf85",
   "metadata": {},
   "outputs": [
    {
     "data": {
      "text/plain": [
       "(Timestamp('1999-08-06 00:00:00'), Timestamp('2018-12-04 00:00:00'))"
      ]
     },
     "execution_count": 97,
     "metadata": {},
     "output_type": "execute_result"
    }
   ],
   "source": [
    "(recipes['submitted'].min(),recipes['submitted'].max())"
   ]
  },
  {
   "cell_type": "code",
   "execution_count": 32,
   "id": "df12f39a",
   "metadata": {},
   "outputs": [
    {
     "data": {
      "text/plain": [
       "name                      object\n",
       "id                         int64\n",
       "minutes                    int64\n",
       "contributor_id             int64\n",
       "submitted         datetime64[ns]\n",
       "tags                      object\n",
       "nutrition                 object\n",
       "n_steps                    int64\n",
       "steps                     object\n",
       "description               object\n",
       "ingredients               object\n",
       "n_ingredients              int64\n",
       "dtype: object"
      ]
     },
     "execution_count": 32,
     "metadata": {},
     "output_type": "execute_result"
    }
   ],
   "source": [
    "# check validity\n",
    "recipes.dtypes"
   ]
  },
  {
   "cell_type": "code",
   "execution_count": 35,
   "id": "323fbdf8",
   "metadata": {},
   "outputs": [
    {
     "name": "stderr",
     "output_type": "stream",
     "text": [
      "C:\\Users\\Savannah Passaretti\\AppData\\Local\\Temp\\ipykernel_17716\\1421268763.py:1: SettingWithCopyWarning: \n",
      "A value is trying to be set on a copy of a slice from a DataFrame.\n",
      "Try using .loc[row_indexer,col_indexer] = value instead\n",
      "\n",
      "See the caveats in the documentation: https://pandas.pydata.org/pandas-docs/stable/user_guide/indexing.html#returning-a-view-versus-a-copy\n",
      "  interactions['date'] = pd.to_datetime(interactions['date'])\n"
     ]
    },
    {
     "data": {
      "text/plain": [
       "user_id               int64\n",
       "recipe_id             int64\n",
       "date         datetime64[ns]\n",
       "rating                int64\n",
       "review               object\n",
       "dtype: object"
      ]
     },
     "execution_count": 35,
     "metadata": {},
     "output_type": "execute_result"
    }
   ],
   "source": [
    "# change date to datetime\n",
    "interactions['date'] = pd.to_datetime(interactions['date'])\n",
    "interactions.dtypes"
   ]
  },
  {
   "cell_type": "code",
   "execution_count": 98,
   "id": "d238ea3a",
   "metadata": {},
   "outputs": [
    {
     "data": {
      "text/plain": [
       "(Timestamp('2000-01-25 00:00:00'), Timestamp('2018-12-20 00:00:00'))"
      ]
     },
     "execution_count": 98,
     "metadata": {},
     "output_type": "execute_result"
    }
   ],
   "source": [
    "(interactions['date'].min(),interactions['date'].max())"
   ]
  },
  {
   "cell_type": "code",
   "execution_count": 50,
   "id": "9ea6e08e",
   "metadata": {
    "scrolled": true
   },
   "outputs": [],
   "source": [
    "# interactions.groupby('user_id').count().sort_values(by='recipe_id', ascending = False).head(20)\n",
    "#.value_counts(), count by frequncy\n",
    "user_freq = interactions['user_id'].value_counts()\n",
    "pd.DataFrame(user_freq)"
   ]
  },
  {
   "cell_type": "code",
   "execution_count": 64,
   "id": "bd15ecaa",
   "metadata": {},
   "outputs": [],
   "source": [
    "reviews_limit = 100;"
   ]
  },
  {
   "cell_type": "code",
   "execution_count": 67,
   "id": "6c89da13",
   "metadata": {},
   "outputs": [],
   "source": [
    "users = user_freq[user_freq['count'] > reviews_limit]"
   ]
  },
  {
   "cell_type": "code",
   "execution_count": 74,
   "id": "95b76848",
   "metadata": {},
   "outputs": [
    {
     "data": {
      "text/plain": [
       "Index([ 424680,   37449,  383346,  169430,  128473,   89831,   58104,  133174,\n",
       "        199848,  305531,\n",
       "       ...\n",
       "        153750, 1182971, 1020416,  804851,  498487,  212417,  390058, 1458294,\n",
       "          9580,  121684],\n",
       "      dtype='int64', name='user_id', length=1368)"
      ]
     },
     "execution_count": 74,
     "metadata": {},
     "output_type": "execute_result"
    }
   ],
   "source": [
    "users.index"
   ]
  },
  {
   "cell_type": "code",
   "execution_count": 88,
   "id": "38316af2",
   "metadata": {},
   "outputs": [],
   "source": [
    "# is_black_or_brown = dogs[\"color\"].isin([\"Black\",\"Brown\"])\n",
    "high_interactions = interactions[interactions['user_id'].isin(users.index)]"
   ]
  },
  {
   "cell_type": "code",
   "execution_count": 89,
   "id": "6e7d348f",
   "metadata": {},
   "outputs": [
    {
     "data": {
      "text/html": [
       "<div>\n",
       "<style scoped>\n",
       "    .dataframe tbody tr th:only-of-type {\n",
       "        vertical-align: middle;\n",
       "    }\n",
       "\n",
       "    .dataframe tbody tr th {\n",
       "        vertical-align: top;\n",
       "    }\n",
       "\n",
       "    .dataframe thead th {\n",
       "        text-align: right;\n",
       "    }\n",
       "</style>\n",
       "<table border=\"1\" class=\"dataframe\">\n",
       "  <thead>\n",
       "    <tr style=\"text-align: right;\">\n",
       "      <th></th>\n",
       "      <th>user_id</th>\n",
       "      <th>recipe_id</th>\n",
       "      <th>date</th>\n",
       "      <th>rating</th>\n",
       "      <th>review</th>\n",
       "    </tr>\n",
       "  </thead>\n",
       "  <tbody>\n",
       "    <tr>\n",
       "      <th>3</th>\n",
       "      <td>126440</td>\n",
       "      <td>85009</td>\n",
       "      <td>2010-02-27</td>\n",
       "      <td>5</td>\n",
       "      <td>I made the Mexican topping and took it to bunk...</td>\n",
       "    </tr>\n",
       "    <tr>\n",
       "      <th>4</th>\n",
       "      <td>57222</td>\n",
       "      <td>85009</td>\n",
       "      <td>2011-10-01</td>\n",
       "      <td>5</td>\n",
       "      <td>Made the cheddar bacon topping, adding a sprin...</td>\n",
       "    </tr>\n",
       "    <tr>\n",
       "      <th>5</th>\n",
       "      <td>52282</td>\n",
       "      <td>120345</td>\n",
       "      <td>2005-05-21</td>\n",
       "      <td>4</td>\n",
       "      <td>very very sweet. after i waited the 2 days i b...</td>\n",
       "    </tr>\n",
       "    <tr>\n",
       "      <th>6</th>\n",
       "      <td>124416</td>\n",
       "      <td>120345</td>\n",
       "      <td>2011-08-06</td>\n",
       "      <td>0</td>\n",
       "      <td>Just an observation, so I will not rate.  I fo...</td>\n",
       "    </tr>\n",
       "    <tr>\n",
       "      <th>8</th>\n",
       "      <td>76535</td>\n",
       "      <td>134728</td>\n",
       "      <td>2005-09-02</td>\n",
       "      <td>4</td>\n",
       "      <td>Very good!</td>\n",
       "    </tr>\n",
       "  </tbody>\n",
       "</table>\n",
       "</div>"
      ],
      "text/plain": [
       "   user_id  recipe_id       date  rating  \\\n",
       "3   126440      85009 2010-02-27       5   \n",
       "4    57222      85009 2011-10-01       5   \n",
       "5    52282     120345 2005-05-21       4   \n",
       "6   124416     120345 2011-08-06       0   \n",
       "8    76535     134728 2005-09-02       4   \n",
       "\n",
       "                                              review  \n",
       "3  I made the Mexican topping and took it to bunk...  \n",
       "4  Made the cheddar bacon topping, adding a sprin...  \n",
       "5  very very sweet. after i waited the 2 days i b...  \n",
       "6  Just an observation, so I will not rate.  I fo...  \n",
       "8                                         Very good!  "
      ]
     },
     "execution_count": 89,
     "metadata": {},
     "output_type": "execute_result"
    }
   ],
   "source": [
    "high_interactions.head()"
   ]
  },
  {
   "cell_type": "code",
   "execution_count": 90,
   "id": "2ef3df58",
   "metadata": {},
   "outputs": [
    {
     "data": {
      "text/html": [
       "<div>\n",
       "<style scoped>\n",
       "    .dataframe tbody tr th:only-of-type {\n",
       "        vertical-align: middle;\n",
       "    }\n",
       "\n",
       "    .dataframe tbody tr th {\n",
       "        vertical-align: top;\n",
       "    }\n",
       "\n",
       "    .dataframe thead th {\n",
       "        text-align: right;\n",
       "    }\n",
       "</style>\n",
       "<table border=\"1\" class=\"dataframe\">\n",
       "  <thead>\n",
       "    <tr style=\"text-align: right;\">\n",
       "      <th></th>\n",
       "      <th>user_id</th>\n",
       "      <th>recipe_id</th>\n",
       "      <th>date</th>\n",
       "      <th>rating</th>\n",
       "      <th>review</th>\n",
       "    </tr>\n",
       "  </thead>\n",
       "  <tbody>\n",
       "    <tr>\n",
       "      <th>0</th>\n",
       "      <td>126440</td>\n",
       "      <td>85009</td>\n",
       "      <td>2010-02-27</td>\n",
       "      <td>5</td>\n",
       "      <td>I made the Mexican topping and took it to bunk...</td>\n",
       "    </tr>\n",
       "    <tr>\n",
       "      <th>1</th>\n",
       "      <td>57222</td>\n",
       "      <td>85009</td>\n",
       "      <td>2011-10-01</td>\n",
       "      <td>5</td>\n",
       "      <td>Made the cheddar bacon topping, adding a sprin...</td>\n",
       "    </tr>\n",
       "    <tr>\n",
       "      <th>2</th>\n",
       "      <td>52282</td>\n",
       "      <td>120345</td>\n",
       "      <td>2005-05-21</td>\n",
       "      <td>4</td>\n",
       "      <td>very very sweet. after i waited the 2 days i b...</td>\n",
       "    </tr>\n",
       "    <tr>\n",
       "      <th>3</th>\n",
       "      <td>124416</td>\n",
       "      <td>120345</td>\n",
       "      <td>2011-08-06</td>\n",
       "      <td>0</td>\n",
       "      <td>Just an observation, so I will not rate.  I fo...</td>\n",
       "    </tr>\n",
       "    <tr>\n",
       "      <th>4</th>\n",
       "      <td>76535</td>\n",
       "      <td>134728</td>\n",
       "      <td>2005-09-02</td>\n",
       "      <td>4</td>\n",
       "      <td>Very good!</td>\n",
       "    </tr>\n",
       "    <tr>\n",
       "      <th>...</th>\n",
       "      <td>...</td>\n",
       "      <td>...</td>\n",
       "      <td>...</td>\n",
       "      <td>...</td>\n",
       "      <td>...</td>\n",
       "    </tr>\n",
       "    <tr>\n",
       "      <th>510480</th>\n",
       "      <td>126435</td>\n",
       "      <td>166739</td>\n",
       "      <td>2007-08-25</td>\n",
       "      <td>5</td>\n",
       "      <td>I was craving my Mom's tea cakes, but don't ha...</td>\n",
       "    </tr>\n",
       "    <tr>\n",
       "      <th>510481</th>\n",
       "      <td>140132</td>\n",
       "      <td>82303</td>\n",
       "      <td>2010-10-01</td>\n",
       "      <td>5</td>\n",
       "      <td>This is fabulous.  I made it for our dessert t...</td>\n",
       "    </tr>\n",
       "    <tr>\n",
       "      <th>510482</th>\n",
       "      <td>199020</td>\n",
       "      <td>82303</td>\n",
       "      <td>2013-03-18</td>\n",
       "      <td>5</td>\n",
       "      <td>5 stars for taste! I had a hard time getting m...</td>\n",
       "    </tr>\n",
       "    <tr>\n",
       "      <th>510483</th>\n",
       "      <td>1122988</td>\n",
       "      <td>82303</td>\n",
       "      <td>2014-07-08</td>\n",
       "      <td>5</td>\n",
       "      <td>This was amazingly delicious!  The only change...</td>\n",
       "    </tr>\n",
       "    <tr>\n",
       "      <th>510484</th>\n",
       "      <td>53932</td>\n",
       "      <td>78003</td>\n",
       "      <td>2009-01-11</td>\n",
       "      <td>4</td>\n",
       "      <td>Very good!  I used regular port as well.  The ...</td>\n",
       "    </tr>\n",
       "  </tbody>\n",
       "</table>\n",
       "<p>510485 rows × 5 columns</p>\n",
       "</div>"
      ],
      "text/plain": [
       "        user_id  recipe_id       date  rating  \\\n",
       "0        126440      85009 2010-02-27       5   \n",
       "1         57222      85009 2011-10-01       5   \n",
       "2         52282     120345 2005-05-21       4   \n",
       "3        124416     120345 2011-08-06       0   \n",
       "4         76535     134728 2005-09-02       4   \n",
       "...         ...        ...        ...     ...   \n",
       "510480   126435     166739 2007-08-25       5   \n",
       "510481   140132      82303 2010-10-01       5   \n",
       "510482   199020      82303 2013-03-18       5   \n",
       "510483  1122988      82303 2014-07-08       5   \n",
       "510484    53932      78003 2009-01-11       4   \n",
       "\n",
       "                                                   review  \n",
       "0       I made the Mexican topping and took it to bunk...  \n",
       "1       Made the cheddar bacon topping, adding a sprin...  \n",
       "2       very very sweet. after i waited the 2 days i b...  \n",
       "3       Just an observation, so I will not rate.  I fo...  \n",
       "4                                              Very good!  \n",
       "...                                                   ...  \n",
       "510480  I was craving my Mom's tea cakes, but don't ha...  \n",
       "510481  This is fabulous.  I made it for our dessert t...  \n",
       "510482  5 stars for taste! I had a hard time getting m...  \n",
       "510483  This was amazingly delicious!  The only change...  \n",
       "510484  Very good!  I used regular port as well.  The ...  \n",
       "\n",
       "[510485 rows x 5 columns]"
      ]
     },
     "execution_count": 90,
     "metadata": {},
     "output_type": "execute_result"
    }
   ],
   "source": [
    "high_interactions.reset_index(drop=True)"
   ]
  },
  {
   "cell_type": "code",
   "execution_count": 100,
   "id": "b24e16dc",
   "metadata": {},
   "outputs": [
    {
     "data": {
      "text/plain": [
       "name                 1\n",
       "id                   0\n",
       "minutes              0\n",
       "contributor_id       0\n",
       "submitted            0\n",
       "tags                 0\n",
       "nutrition            0\n",
       "n_steps              0\n",
       "steps                0\n",
       "description       4979\n",
       "ingredients          0\n",
       "n_ingredients        0\n",
       "dtype: int64"
      ]
     },
     "execution_count": 100,
     "metadata": {},
     "output_type": "execute_result"
    }
   ],
   "source": [
    "recipes.isna().sum()"
   ]
  },
  {
   "cell_type": "markdown",
   "id": "07f64fd0",
   "metadata": {},
   "source": [
    "Do not know if 'description' will be a key part of the model, so I will keep records with empty descriptions for now. Will drop the 1 record with an emty name"
   ]
  },
  {
   "cell_type": "code",
   "execution_count": 101,
   "id": "412c0e1f",
   "metadata": {},
   "outputs": [],
   "source": [
    "recipes = recipes[recipes['name'].notna()]"
   ]
  },
  {
   "cell_type": "code",
   "execution_count": 109,
   "id": "7e19a89a",
   "metadata": {},
   "outputs": [
    {
     "data": {
      "text/html": [
       "<div>\n",
       "<style scoped>\n",
       "    .dataframe tbody tr th:only-of-type {\n",
       "        vertical-align: middle;\n",
       "    }\n",
       "\n",
       "    .dataframe tbody tr th {\n",
       "        vertical-align: top;\n",
       "    }\n",
       "\n",
       "    .dataframe thead th {\n",
       "        text-align: right;\n",
       "    }\n",
       "</style>\n",
       "<table border=\"1\" class=\"dataframe\">\n",
       "  <thead>\n",
       "    <tr style=\"text-align: right;\">\n",
       "      <th></th>\n",
       "      <th>submitted</th>\n",
       "      <th>n_steps</th>\n",
       "      <th>n_ingredients</th>\n",
       "      <th>minutes</th>\n",
       "    </tr>\n",
       "  </thead>\n",
       "  <tbody>\n",
       "    <tr>\n",
       "      <th>count</th>\n",
       "      <td>231636</td>\n",
       "      <td>231636.000000</td>\n",
       "      <td>231636.000000</td>\n",
       "      <td>2.316360e+05</td>\n",
       "    </tr>\n",
       "    <tr>\n",
       "      <th>mean</th>\n",
       "      <td>2006-11-14 01:53:01.122105344</td>\n",
       "      <td>9.765516</td>\n",
       "      <td>9.051149</td>\n",
       "      <td>9.398587e+03</td>\n",
       "    </tr>\n",
       "    <tr>\n",
       "      <th>min</th>\n",
       "      <td>1999-08-06 00:00:00</td>\n",
       "      <td>0.000000</td>\n",
       "      <td>1.000000</td>\n",
       "      <td>0.000000e+00</td>\n",
       "    </tr>\n",
       "    <tr>\n",
       "      <th>25%</th>\n",
       "      <td>2004-09-16 00:00:00</td>\n",
       "      <td>6.000000</td>\n",
       "      <td>6.000000</td>\n",
       "      <td>2.000000e+01</td>\n",
       "    </tr>\n",
       "    <tr>\n",
       "      <th>50%</th>\n",
       "      <td>2007-01-23 00:00:00</td>\n",
       "      <td>9.000000</td>\n",
       "      <td>9.000000</td>\n",
       "      <td>4.000000e+01</td>\n",
       "    </tr>\n",
       "    <tr>\n",
       "      <th>75%</th>\n",
       "      <td>2008-10-29 00:00:00</td>\n",
       "      <td>12.000000</td>\n",
       "      <td>11.000000</td>\n",
       "      <td>6.500000e+01</td>\n",
       "    </tr>\n",
       "    <tr>\n",
       "      <th>max</th>\n",
       "      <td>2018-12-04 00:00:00</td>\n",
       "      <td>145.000000</td>\n",
       "      <td>43.000000</td>\n",
       "      <td>2.147484e+09</td>\n",
       "    </tr>\n",
       "    <tr>\n",
       "      <th>std</th>\n",
       "      <td>NaN</td>\n",
       "      <td>5.995136</td>\n",
       "      <td>3.734803</td>\n",
       "      <td>4.461973e+06</td>\n",
       "    </tr>\n",
       "  </tbody>\n",
       "</table>\n",
       "</div>"
      ],
      "text/plain": [
       "                           submitted        n_steps  n_ingredients  \\\n",
       "count                         231636  231636.000000  231636.000000   \n",
       "mean   2006-11-14 01:53:01.122105344       9.765516       9.051149   \n",
       "min              1999-08-06 00:00:00       0.000000       1.000000   \n",
       "25%              2004-09-16 00:00:00       6.000000       6.000000   \n",
       "50%              2007-01-23 00:00:00       9.000000       9.000000   \n",
       "75%              2008-10-29 00:00:00      12.000000      11.000000   \n",
       "max              2018-12-04 00:00:00     145.000000      43.000000   \n",
       "std                              NaN       5.995136       3.734803   \n",
       "\n",
       "            minutes  \n",
       "count  2.316360e+05  \n",
       "mean   9.398587e+03  \n",
       "min    0.000000e+00  \n",
       "25%    2.000000e+01  \n",
       "50%    4.000000e+01  \n",
       "75%    6.500000e+01  \n",
       "max    2.147484e+09  \n",
       "std    4.461973e+06  "
      ]
     },
     "execution_count": 109,
     "metadata": {},
     "output_type": "execute_result"
    }
   ],
   "source": [
    "recipes[['submitted','n_steps','n_ingredients','minutes']].describe()"
   ]
  },
  {
   "cell_type": "code",
   "execution_count": 107,
   "id": "3a880243",
   "metadata": {},
   "outputs": [
    {
     "data": {
      "text/html": [
       "<div>\n",
       "<style scoped>\n",
       "    .dataframe tbody tr th:only-of-type {\n",
       "        vertical-align: middle;\n",
       "    }\n",
       "\n",
       "    .dataframe tbody tr th {\n",
       "        vertical-align: top;\n",
       "    }\n",
       "\n",
       "    .dataframe thead th {\n",
       "        text-align: right;\n",
       "    }\n",
       "</style>\n",
       "<table border=\"1\" class=\"dataframe\">\n",
       "  <thead>\n",
       "    <tr style=\"text-align: right;\">\n",
       "      <th></th>\n",
       "      <th>rating</th>\n",
       "      <th>date</th>\n",
       "    </tr>\n",
       "  </thead>\n",
       "  <tbody>\n",
       "    <tr>\n",
       "      <th>count</th>\n",
       "      <td>1.132198e+06</td>\n",
       "      <td>1132198</td>\n",
       "    </tr>\n",
       "    <tr>\n",
       "      <th>mean</th>\n",
       "      <td>4.410971e+00</td>\n",
       "      <td>2009-05-12 16:06:39.593711360</td>\n",
       "    </tr>\n",
       "    <tr>\n",
       "      <th>min</th>\n",
       "      <td>0.000000e+00</td>\n",
       "      <td>2000-01-25 00:00:00</td>\n",
       "    </tr>\n",
       "    <tr>\n",
       "      <th>25%</th>\n",
       "      <td>4.000000e+00</td>\n",
       "      <td>2007-03-11 00:00:00</td>\n",
       "    </tr>\n",
       "    <tr>\n",
       "      <th>50%</th>\n",
       "      <td>5.000000e+00</td>\n",
       "      <td>2008-12-28 00:00:00</td>\n",
       "    </tr>\n",
       "    <tr>\n",
       "      <th>75%</th>\n",
       "      <td>5.000000e+00</td>\n",
       "      <td>2011-03-06 00:00:00</td>\n",
       "    </tr>\n",
       "    <tr>\n",
       "      <th>max</th>\n",
       "      <td>5.000000e+00</td>\n",
       "      <td>2018-12-20 00:00:00</td>\n",
       "    </tr>\n",
       "    <tr>\n",
       "      <th>std</th>\n",
       "      <td>1.264812e+00</td>\n",
       "      <td>NaN</td>\n",
       "    </tr>\n",
       "  </tbody>\n",
       "</table>\n",
       "</div>"
      ],
      "text/plain": [
       "             rating                           date\n",
       "count  1.132198e+06                        1132198\n",
       "mean   4.410971e+00  2009-05-12 16:06:39.593711360\n",
       "min    0.000000e+00            2000-01-25 00:00:00\n",
       "25%    4.000000e+00            2007-03-11 00:00:00\n",
       "50%    5.000000e+00            2008-12-28 00:00:00\n",
       "75%    5.000000e+00            2011-03-06 00:00:00\n",
       "max    5.000000e+00            2018-12-20 00:00:00\n",
       "std    1.264812e+00                            NaN"
      ]
     },
     "execution_count": 107,
     "metadata": {},
     "output_type": "execute_result"
    }
   ],
   "source": [
    "interactions[['rating','date']].describe()"
   ]
  },
  {
   "cell_type": "markdown",
   "id": "aa6d8604",
   "metadata": {},
   "source": [
    "### Notes\n",
    "Discard users who have reviewed less than 100 recipes\n",
    "Is there a limit that wont serve the general public\n",
    "\n",
    "weak model -- easily fooled by bad or weird data\n",
    "strong models can also not be fooled by data\n",
    "\n",
    "applying real world into a model, more modeling the easier it is\n",
    "\n",
    "end state, have data in table format, numbers that make sense, at that point\n",
    "\n",
    "csv file, if someone else wanted to use the file in python, a python object, use pkl, a model, etc, some kind of logic, like a .mat"
   ]
  },
  {
   "cell_type": "markdown",
   "id": "f1d18385",
   "metadata": {},
   "source": [
    "### Useful functions\n",
    "\n",
    "- loc[] - filter your data by label\n",
    "- iloc[] - filter your data by indexes\n",
    "- apply() - execute a function across an axis of a DataFrame\n",
    "- drop() - drop columns from a DataFrame\n",
    "- is_unique() - check if a column is a unique identifier\n",
    "- Series methods, such as str.contains(), which can be used to check if\n",
    "a certain substring occurs in a string of a Series, and str.extract(),\n",
    "which can be used to extract capture groups with a certain regex (or\n",
    "regular expression) pattern\n",
    "- numPy methods like .where(), to clean columns. Recall that such\n",
    "methods have the structure: np.where(condition, then, else)\n",
    "- DataFrame methods to check for null values, such as\n",
    "df.isnull().values.any()"
   ]
  },
  {
   "cell_type": "code",
   "execution_count": null,
   "id": "a50774df",
   "metadata": {},
   "outputs": [],
   "source": []
  }
 ],
 "metadata": {
  "kernelspec": {
   "display_name": "Python 3 (ipykernel)",
   "language": "python",
   "name": "python3"
  },
  "language_info": {
   "codemirror_mode": {
    "name": "ipython",
    "version": 3
   },
   "file_extension": ".py",
   "mimetype": "text/x-python",
   "name": "python",
   "nbconvert_exporter": "python",
   "pygments_lexer": "ipython3",
   "version": "3.11.5"
  }
 },
 "nbformat": 4,
 "nbformat_minor": 5
}
