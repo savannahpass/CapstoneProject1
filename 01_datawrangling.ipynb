{
 "cells": [
  {
   "cell_type": "markdown",
   "id": "f1d9ab0d",
   "metadata": {},
   "source": [
    "### Capstone Project\n",
    "#### Data Wrangling\n",
    "\n",
    "Using 'RAW_interactions.csv' & 'RAW_recipes.csv') from:\n",
    "https://www.kaggle.com/datasets/shuyangli94/food-com-recipes-and-user-interactions"
   ]
  },
  {
   "cell_type": "markdown",
   "id": "f33046f4",
   "metadata": {},
   "source": [
    "#### Data Collection\n",
    "\n",
    "* Goal: Organize your data to streamline the next steps of your\n",
    "capstone\n",
    "* Time estimate: 1-2 hours\n",
    "    - Data loading\n",
    "    - Data joining\n",
    "    - Hint: Data Collection will require the use of the pandas library,\n",
    "and functions like read_csv(), depending on the type of data\n",
    "you want to read in!\n",
    "    - Hint: when adding one dataset to another, make sure you use\n",
    "the right function: you might want to merge, join, or\n",
    "concatenate"
   ]
  },
  {
   "cell_type": "code",
   "execution_count": null,
   "id": "70cae595",
   "metadata": {},
   "outputs": [],
   "source": [
    "# import libraries\n",
    "import pandas as pd\n",
    "import matplotlib.pyplot as plt"
   ]
  },
  {
   "cell_type": "markdown",
   "id": "91daf99d",
   "metadata": {},
   "source": [
    "#### Load Data"
   ]
  },
  {
   "cell_type": "code",
   "execution_count": null,
   "id": "20feb9ea",
   "metadata": {},
   "outputs": [],
   "source": [
    "interactions = pd.read_csv('data/RAW_interactions.csv')\n",
    "recipes = pd.read_csv('data/RAW_recipes.csv')"
   ]
  },
  {
   "cell_type": "markdown",
   "id": "197c8b32",
   "metadata": {},
   "source": [
    "### Recipes Dataset"
   ]
  },
  {
   "cell_type": "code",
   "execution_count": null,
   "id": "ebd767a2",
   "metadata": {},
   "outputs": [],
   "source": [
    "recipes.columns"
   ]
  },
  {
   "cell_type": "code",
   "execution_count": null,
   "id": "367c528f",
   "metadata": {},
   "outputs": [],
   "source": [
    "recipes.index"
   ]
  },
  {
   "cell_type": "code",
   "execution_count": null,
   "id": "a18de167",
   "metadata": {},
   "outputs": [],
   "source": [
    "recipes.dtypes"
   ]
  },
  {
   "cell_type": "code",
   "execution_count": null,
   "id": "3830bc8c",
   "metadata": {},
   "outputs": [],
   "source": [
    "recipes.head()"
   ]
  },
  {
   "cell_type": "code",
   "execution_count": null,
   "id": "1453c266",
   "metadata": {},
   "outputs": [],
   "source": [
    "recipes.isna().sum()"
   ]
  },
  {
   "cell_type": "code",
   "execution_count": null,
   "id": "8c31e9a4",
   "metadata": {},
   "outputs": [],
   "source": [
    "recipes.select_dtypes('object')"
   ]
  },
  {
   "cell_type": "code",
   "execution_count": null,
   "id": "66e9dd95",
   "metadata": {},
   "outputs": [],
   "source": [
    "# Change submitted to datetime\n",
    "recipes['submitted'] = pd.to_datetime(recipes['submitted'])\n",
    "# recipes['nutrition'] this is a string should I change it to an array"
   ]
  },
  {
   "cell_type": "code",
   "execution_count": null,
   "id": "766cbf85",
   "metadata": {},
   "outputs": [],
   "source": [
    "(recipes['submitted'].min(),recipes['submitted'].max())"
   ]
  },
  {
   "cell_type": "code",
   "execution_count": null,
   "id": "df12f39a",
   "metadata": {},
   "outputs": [],
   "source": [
    "# check validity\n",
    "recipes.dtypes"
   ]
  },
  {
   "cell_type": "code",
   "execution_count": null,
   "id": "b24e16dc",
   "metadata": {},
   "outputs": [],
   "source": [
    "recipes.isna().sum()"
   ]
  },
  {
   "cell_type": "code",
   "execution_count": null,
   "id": "9e6f837d",
   "metadata": {},
   "outputs": [],
   "source": [
    "recipes = recipes[recipes['name'].notna()]"
   ]
  },
  {
   "cell_type": "code",
   "execution_count": null,
   "id": "7546e0de",
   "metadata": {},
   "outputs": [],
   "source": [
    "recipes[['submitted','n_steps','n_ingredients','minutes']].describe()"
   ]
  },
  {
   "cell_type": "markdown",
   "id": "a99874d6",
   "metadata": {},
   "source": [
    "### Ineractions Dataset"
   ]
  },
  {
   "cell_type": "code",
   "execution_count": null,
   "id": "d3f61245",
   "metadata": {},
   "outputs": [],
   "source": [
    "interactions.columns"
   ]
  },
  {
   "cell_type": "code",
   "execution_count": null,
   "id": "cd325525",
   "metadata": {},
   "outputs": [],
   "source": [
    "interactions.index"
   ]
  },
  {
   "cell_type": "code",
   "execution_count": null,
   "id": "c4864393",
   "metadata": {},
   "outputs": [],
   "source": [
    "interactions.head()"
   ]
  },
  {
   "cell_type": "code",
   "execution_count": null,
   "id": "3fd45794",
   "metadata": {},
   "outputs": [],
   "source": [
    "interactions.isna().sum()"
   ]
  },
  {
   "cell_type": "code",
   "execution_count": null,
   "id": "1bed02e5",
   "metadata": {},
   "outputs": [],
   "source": [
    "# drop interactions with empty reviews\n",
    "interactions =  interactions.dropna(inplace=True)"
   ]
  },
  {
   "cell_type": "code",
   "execution_count": null,
   "id": "1909f0cc",
   "metadata": {},
   "outputs": [],
   "source": [
    "interactions.index"
   ]
  },
  {
   "cell_type": "code",
   "execution_count": null,
   "id": "323fbdf8",
   "metadata": {},
   "outputs": [],
   "source": [
    "# change date to datetime\n",
    "interactions['date'] = pd.to_datetime(interactions['date'])\n",
    "interactions.dtypes"
   ]
  },
  {
   "cell_type": "code",
   "execution_count": null,
   "id": "d238ea3a",
   "metadata": {},
   "outputs": [],
   "source": [
    "(interactions['date'].min(),interactions['date'].max())"
   ]
  },
  {
   "cell_type": "code",
   "execution_count": null,
   "id": "9ea6e08e",
   "metadata": {
    "scrolled": true
   },
   "outputs": [],
   "source": [
    "# interactions.groupby('user_id').count().sort_values(by='recipe_id', ascending = False).head(20)\n",
    "#.value_counts(), count by frequncy\n",
    "user_freq = interactions['user_id'].value_counts()\n",
    "pd.DataFrame(user_freq)"
   ]
  },
  {
   "cell_type": "code",
   "execution_count": null,
   "id": "bd15ecaa",
   "metadata": {},
   "outputs": [],
   "source": [
    "reviews_limit = 100;"
   ]
  },
  {
   "cell_type": "code",
   "execution_count": null,
   "id": "6c89da13",
   "metadata": {},
   "outputs": [],
   "source": [
    "users = user_freq[user_freq['count'] > reviews_limit]"
   ]
  },
  {
   "cell_type": "code",
   "execution_count": null,
   "id": "95b76848",
   "metadata": {},
   "outputs": [],
   "source": [
    "users.index"
   ]
  },
  {
   "cell_type": "code",
   "execution_count": null,
   "id": "38316af2",
   "metadata": {},
   "outputs": [],
   "source": [
    "# is_black_or_brown = dogs[\"color\"].isin([\"Black\",\"Brown\"])\n",
    "high_interactions = interactions[interactions['user_id'].isin(users.index)]"
   ]
  },
  {
   "cell_type": "code",
   "execution_count": null,
   "id": "6e7d348f",
   "metadata": {},
   "outputs": [],
   "source": [
    "high_interactions.head()"
   ]
  },
  {
   "cell_type": "code",
   "execution_count": null,
   "id": "2ef3df58",
   "metadata": {},
   "outputs": [],
   "source": [
    "high_interactions.reset_index(drop=True)"
   ]
  },
  {
   "cell_type": "markdown",
   "id": "07f64fd0",
   "metadata": {},
   "source": [
    "Do not know if 'description' will be a key part of the model, so I will keep records with empty descriptions for now. Will drop the 1 record with an emty name"
   ]
  },
  {
   "cell_type": "code",
   "execution_count": null,
   "id": "3a880243",
   "metadata": {},
   "outputs": [],
   "source": [
    "interactions[['rating','date']].describe()"
   ]
  },
  {
   "cell_type": "markdown",
   "id": "aa6d8604",
   "metadata": {},
   "source": [
    "### Notes\n",
    "Discard users who have reviewed less than 100 recipes\n",
    "Is there a limit that wont serve the general public\n",
    "\n",
    "weak model -- easily fooled by bad or weird data\n",
    "strong models can also not be fooled by data\n",
    "\n",
    "applying real world into a model, more modeling the easier it is\n",
    "\n",
    "end state, have data in table format, numbers that make sense, at that point\n",
    "\n",
    "csv file, if someone else wanted to use the file in python, a python object, use pkl, a model, etc, some kind of logic, like a .mat"
   ]
  },
  {
   "cell_type": "markdown",
   "id": "f1d18385",
   "metadata": {},
   "source": [
    "### Useful functions\n",
    "\n",
    "- loc[] - filter your data by label\n",
    "- iloc[] - filter your data by indexes\n",
    "- apply() - execute a function across an axis of a DataFrame\n",
    "- drop() - drop columns from a DataFrame\n",
    "- is_unique() - check if a column is a unique identifier\n",
    "- Series methods, such as str.contains(), which can be used to check if\n",
    "a certain substring occurs in a string of a Series, and str.extract(),\n",
    "which can be used to extract capture groups with a certain regex (or\n",
    "regular expression) pattern\n",
    "- numPy methods like .where(), to clean columns. Recall that such\n",
    "methods have the structure: np.where(condition, then, else)\n",
    "- DataFrame methods to check for null values, such as\n",
    "df.isnull().values.any()"
   ]
  },
  {
   "cell_type": "code",
   "execution_count": null,
   "id": "a50774df",
   "metadata": {},
   "outputs": [],
   "source": []
  }
 ],
 "metadata": {
  "kernelspec": {
   "display_name": "Python 3 (ipykernel)",
   "language": "python",
   "name": "python3"
  },
  "language_info": {
   "codemirror_mode": {
    "name": "ipython",
    "version": 3
   },
   "file_extension": ".py",
   "mimetype": "text/x-python",
   "name": "python",
   "nbconvert_exporter": "python",
   "pygments_lexer": "ipython3",
   "version": "3.11.5"
  }
 },
 "nbformat": 4,
 "nbformat_minor": 5
}
